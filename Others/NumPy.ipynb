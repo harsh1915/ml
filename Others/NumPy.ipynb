{
 "cells": [
  {
   "cell_type": "code",
   "execution_count": 1,
   "id": "b9437b29",
   "metadata": {},
   "outputs": [],
   "source": [
    "import numpy as np"
   ]
  },
  {
   "cell_type": "code",
   "execution_count": 2,
   "id": "b5354c7c",
   "metadata": {},
   "outputs": [],
   "source": [
    "myarr = np.array([[3,6,3,7]])"
   ]
  },
  {
   "cell_type": "code",
   "execution_count": 3,
   "id": "a74d27a8",
   "metadata": {},
   "outputs": [
    {
     "data": {
      "text/plain": [
       "array([[3, 6, 3, 7]])"
      ]
     },
     "execution_count": 3,
     "metadata": {},
     "output_type": "execute_result"
    }
   ],
   "source": [
    "myarr"
   ]
  },
  {
   "cell_type": "code",
   "execution_count": 4,
   "id": "d82426eb",
   "metadata": {},
   "outputs": [
    {
     "data": {
      "text/plain": [
       "dtype('int32')"
      ]
     },
     "execution_count": 4,
     "metadata": {},
     "output_type": "execute_result"
    }
   ],
   "source": [
    "myarr.shape\n",
    "myarr.dtype\n"
   ]
  },
  {
   "cell_type": "code",
   "execution_count": 5,
   "id": "ddaec7cb",
   "metadata": {},
   "outputs": [],
   "source": [
    "listarray=np.array([[1,2,3],[5,8,5],[0,3,1]])"
   ]
  },
  {
   "cell_type": "code",
   "execution_count": 6,
   "id": "63cf28bc",
   "metadata": {},
   "outputs": [
    {
     "data": {
      "text/plain": [
       "dtype('int32')"
      ]
     },
     "execution_count": 6,
     "metadata": {},
     "output_type": "execute_result"
    }
   ],
   "source": [
    "listarray.dtype"
   ]
  },
  {
   "cell_type": "code",
   "execution_count": 7,
   "id": "236d3be0",
   "metadata": {},
   "outputs": [
    {
     "data": {
      "text/plain": [
       "(3, 3)"
      ]
     },
     "execution_count": 7,
     "metadata": {},
     "output_type": "execute_result"
    }
   ],
   "source": [
    "listarray.shape"
   ]
  },
  {
   "cell_type": "code",
   "execution_count": 8,
   "id": "63bfd717",
   "metadata": {},
   "outputs": [],
   "source": [
    "rng = np.arange(12)"
   ]
  },
  {
   "cell_type": "code",
   "execution_count": 9,
   "id": "52c42512",
   "metadata": {},
   "outputs": [
    {
     "data": {
      "text/plain": [
       "array([ 0,  1,  2,  3,  4,  5,  6,  7,  8,  9, 10, 11])"
      ]
     },
     "execution_count": 9,
     "metadata": {},
     "output_type": "execute_result"
    }
   ],
   "source": [
    "rng"
   ]
  },
  {
   "cell_type": "code",
   "execution_count": 10,
   "id": "9cbc4fa8",
   "metadata": {},
   "outputs": [],
   "source": [
    "lspace = np.linspace(1,5,12)"
   ]
  },
  {
   "cell_type": "code",
   "execution_count": 11,
   "id": "0d299e27",
   "metadata": {},
   "outputs": [
    {
     "data": {
      "text/plain": [
       "array([1.        , 1.36363636, 1.72727273, 2.09090909, 2.45454545,\n",
       "       2.81818182, 3.18181818, 3.54545455, 3.90909091, 4.27272727,\n",
       "       4.63636364, 5.        ])"
      ]
     },
     "execution_count": 11,
     "metadata": {},
     "output_type": "execute_result"
    }
   ],
   "source": [
    "lspace"
   ]
  },
  {
   "cell_type": "code",
   "execution_count": 12,
   "id": "a5f7d337",
   "metadata": {},
   "outputs": [],
   "source": [
    "lspace2=np.linspace(1,100,5)"
   ]
  },
  {
   "cell_type": "code",
   "execution_count": 13,
   "id": "70682c0f",
   "metadata": {},
   "outputs": [
    {
     "data": {
      "text/plain": [
       "array([  1.  ,  25.75,  50.5 ,  75.25, 100.  ])"
      ]
     },
     "execution_count": 13,
     "metadata": {},
     "output_type": "execute_result"
    }
   ],
   "source": [
    "lspace2"
   ]
  },
  {
   "cell_type": "code",
   "execution_count": 14,
   "id": "726e54b4",
   "metadata": {},
   "outputs": [],
   "source": [
    "emp = np.empty((4,5))\n"
   ]
  },
  {
   "cell_type": "code",
   "execution_count": 15,
   "id": "0ba32fd2",
   "metadata": {},
   "outputs": [
    {
     "data": {
      "text/plain": [
       "array([[1.78020033e-306, 1.24611266e-306, 8.06637656e-308,\n",
       "        8.90070286e-308, 0.00000000e+000],\n",
       "       [0.00000000e+000, 0.00000000e+000, 0.00000000e+000,\n",
       "        0.00000000e+000, 0.00000000e+000],\n",
       "       [0.00000000e+000, 0.00000000e+000, 0.00000000e+000,\n",
       "        0.00000000e+000, 0.00000000e+000],\n",
       "       [0.00000000e+000, 0.00000000e+000, 0.00000000e+000,\n",
       "        0.00000000e+000, 0.00000000e+000]])"
      ]
     },
     "execution_count": 15,
     "metadata": {},
     "output_type": "execute_result"
    }
   ],
   "source": [
    "emp"
   ]
  },
  {
   "cell_type": "code",
   "execution_count": 16,
   "id": "761a9025",
   "metadata": {},
   "outputs": [],
   "source": [
    "emp_like=np.empty_like(lspace2)"
   ]
  },
  {
   "cell_type": "code",
   "execution_count": 17,
   "id": "b1720dde",
   "metadata": {},
   "outputs": [
    {
     "data": {
      "text/plain": [
       "array([  1.  ,  25.75,  50.5 ,  75.25, 100.  ])"
      ]
     },
     "execution_count": 17,
     "metadata": {},
     "output_type": "execute_result"
    }
   ],
   "source": [
    "emp_like\n"
   ]
  },
  {
   "cell_type": "code",
   "execution_count": 18,
   "id": "37262886",
   "metadata": {},
   "outputs": [],
   "source": [
    "ide = np.identity(10)"
   ]
  },
  {
   "cell_type": "code",
   "execution_count": 19,
   "id": "ec9eafaa",
   "metadata": {},
   "outputs": [
    {
     "data": {
      "text/plain": [
       "array([[1., 0., 0., 0., 0., 0., 0., 0., 0., 0.],\n",
       "       [0., 1., 0., 0., 0., 0., 0., 0., 0., 0.],\n",
       "       [0., 0., 1., 0., 0., 0., 0., 0., 0., 0.],\n",
       "       [0., 0., 0., 1., 0., 0., 0., 0., 0., 0.],\n",
       "       [0., 0., 0., 0., 1., 0., 0., 0., 0., 0.],\n",
       "       [0., 0., 0., 0., 0., 1., 0., 0., 0., 0.],\n",
       "       [0., 0., 0., 0., 0., 0., 1., 0., 0., 0.],\n",
       "       [0., 0., 0., 0., 0., 0., 0., 1., 0., 0.],\n",
       "       [0., 0., 0., 0., 0., 0., 0., 0., 1., 0.],\n",
       "       [0., 0., 0., 0., 0., 0., 0., 0., 0., 1.]])"
      ]
     },
     "execution_count": 19,
     "metadata": {},
     "output_type": "execute_result"
    }
   ],
   "source": [
    "ide"
   ]
  },
  {
   "cell_type": "code",
   "execution_count": 20,
   "id": "f63e26f0",
   "metadata": {},
   "outputs": [],
   "source": [
    "ar1=np.array([1,2,3,4,56,7,8])\n"
   ]
  },
  {
   "cell_type": "code",
   "execution_count": 21,
   "id": "55d193ad",
   "metadata": {},
   "outputs": [
    {
     "data": {
      "text/plain": [
       "7"
      ]
     },
     "execution_count": 21,
     "metadata": {},
     "output_type": "execute_result"
    }
   ],
   "source": [
    "ar1.size\n"
   ]
  },
  {
   "cell_type": "code",
   "execution_count": 22,
   "id": "1267d0bc",
   "metadata": {},
   "outputs": [
    {
     "data": {
      "text/plain": [
       "4"
      ]
     },
     "execution_count": 22,
     "metadata": {},
     "output_type": "execute_result"
    }
   ],
   "source": [
    "ar1.argmax() #its return   index of max value"
   ]
  },
  {
   "cell_type": "code",
   "execution_count": 23,
   "id": "b44386bd",
   "metadata": {},
   "outputs": [
    {
     "data": {
      "text/plain": [
       "0"
      ]
     },
     "execution_count": 23,
     "metadata": {},
     "output_type": "execute_result"
    }
   ],
   "source": [
    "ar1.argmin() #its return index of min value"
   ]
  },
  {
   "cell_type": "code",
   "execution_count": 24,
   "id": "fe7c2821",
   "metadata": {},
   "outputs": [
    {
     "data": {
      "text/plain": [
       "array([ 1,  2,  3,  4, 56,  7,  8])"
      ]
     },
     "execution_count": 24,
     "metadata": {},
     "output_type": "execute_result"
    }
   ],
   "source": [
    "ar1.T"
   ]
  },
  {
   "cell_type": "code",
   "execution_count": 25,
   "id": "1c856519",
   "metadata": {},
   "outputs": [
    {
     "data": {
      "text/plain": [
       "array([0, 1, 2, 3, 5, 6, 4], dtype=int32)"
      ]
     },
     "execution_count": 25,
     "metadata": {},
     "output_type": "execute_result"
    }
   ],
   "source": [
    "ar1.argsort() #return sorted index of given array"
   ]
  },
  {
   "cell_type": "code",
   "execution_count": 26,
   "id": "d84bfa04",
   "metadata": {},
   "outputs": [],
   "source": [
    "ar2=np.array([[1,2,3],[4,5,6],[7,8,9]],dtype=np.int8)"
   ]
  },
  {
   "cell_type": "code",
   "execution_count": null,
   "id": "f11b51f1",
   "metadata": {},
   "outputs": [],
   "source": []
  },
  {
   "cell_type": "code",
   "execution_count": 27,
   "id": "cb30f5d6",
   "metadata": {},
   "outputs": [
    {
     "data": {
      "text/plain": [
       "array([[1, 2, 3],\n",
       "       [4, 5, 6],\n",
       "       [7, 8, 9]], dtype=int8)"
      ]
     },
     "execution_count": 27,
     "metadata": {},
     "output_type": "execute_result"
    }
   ],
   "source": [
    "ar2"
   ]
  },
  {
   "cell_type": "code",
   "execution_count": 28,
   "id": "fcf88cdf",
   "metadata": {},
   "outputs": [],
   "source": [
    "ar3=ar2.T"
   ]
  },
  {
   "cell_type": "code",
   "execution_count": 29,
   "id": "88dd3339",
   "metadata": {},
   "outputs": [
    {
     "data": {
      "text/plain": [
       "array([[1, 4, 7],\n",
       "       [2, 5, 8],\n",
       "       [3, 6, 9]], dtype=int8)"
      ]
     },
     "execution_count": 29,
     "metadata": {},
     "output_type": "execute_result"
    }
   ],
   "source": [
    "ar3"
   ]
  },
  {
   "cell_type": "code",
   "execution_count": 30,
   "id": "9ac9d8b1",
   "metadata": {},
   "outputs": [
    {
     "data": {
      "text/plain": [
       "2"
      ]
     },
     "execution_count": 30,
     "metadata": {},
     "output_type": "execute_result"
    }
   ],
   "source": [
    "ar3.ndim"
   ]
  },
  {
   "cell_type": "code",
   "execution_count": 31,
   "id": "0222ae87",
   "metadata": {},
   "outputs": [
    {
     "data": {
      "text/plain": [
       "9"
      ]
     },
     "execution_count": 31,
     "metadata": {},
     "output_type": "execute_result"
    }
   ],
   "source": [
    "ar3.size"
   ]
  },
  {
   "cell_type": "code",
   "execution_count": 32,
   "id": "5d7040ef",
   "metadata": {},
   "outputs": [
    {
     "data": {
      "text/plain": [
       "0"
      ]
     },
     "execution_count": 32,
     "metadata": {},
     "output_type": "execute_result"
    }
   ],
   "source": [
    "ar3.argmin()"
   ]
  },
  {
   "cell_type": "code",
   "execution_count": 33,
   "id": "eecab143",
   "metadata": {},
   "outputs": [
    {
     "data": {
      "text/plain": [
       "8"
      ]
     },
     "execution_count": 33,
     "metadata": {},
     "output_type": "execute_result"
    }
   ],
   "source": [
    "ar3.argmax()"
   ]
  },
  {
   "cell_type": "code",
   "execution_count": 34,
   "id": "62e2b396",
   "metadata": {},
   "outputs": [
    {
     "data": {
      "text/plain": [
       "array([ 6, 15, 24])"
      ]
     },
     "execution_count": 34,
     "metadata": {},
     "output_type": "execute_result"
    }
   ],
   "source": [
    "ar3.sum(axis=0)"
   ]
  },
  {
   "cell_type": "code",
   "execution_count": 35,
   "id": "e9f0f3ea",
   "metadata": {},
   "outputs": [
    {
     "data": {
      "text/plain": [
       "array([12, 15, 18])"
      ]
     },
     "execution_count": 35,
     "metadata": {},
     "output_type": "execute_result"
    }
   ],
   "source": [
    "ar3.sum(axis=1)"
   ]
  },
  {
   "cell_type": "code",
   "execution_count": 36,
   "id": "3221b966",
   "metadata": {},
   "outputs": [
    {
     "data": {
      "text/plain": [
       "array([2, 2, 2], dtype=int32)"
      ]
     },
     "execution_count": 36,
     "metadata": {},
     "output_type": "execute_result"
    }
   ],
   "source": [
    "ar3.argmax(axis=0)"
   ]
  },
  {
   "cell_type": "code",
   "execution_count": 37,
   "id": "c3ab9bee",
   "metadata": {},
   "outputs": [
    {
     "data": {
      "text/plain": [
       "array([2, 2, 2], dtype=int32)"
      ]
     },
     "execution_count": 37,
     "metadata": {},
     "output_type": "execute_result"
    }
   ],
   "source": [
    "ar3.argmax(axis=1)"
   ]
  },
  {
   "cell_type": "code",
   "execution_count": 38,
   "id": "f1a8c267",
   "metadata": {},
   "outputs": [
    {
     "data": {
      "text/plain": [
       "array([[1, 2, 3],\n",
       "       [4, 5, 6],\n",
       "       [7, 8, 9]], dtype=int8)"
      ]
     },
     "execution_count": 38,
     "metadata": {},
     "output_type": "execute_result"
    }
   ],
   "source": [
    "ar3.T"
   ]
  },
  {
   "cell_type": "code",
   "execution_count": 39,
   "id": "8cace2d8",
   "metadata": {},
   "outputs": [],
   "source": [
    "ar4= ar3.flat"
   ]
  },
  {
   "cell_type": "code",
   "execution_count": 40,
   "id": "f9e39e75",
   "metadata": {},
   "outputs": [
    {
     "data": {
      "text/plain": [
       "array([[1, 4, 7],\n",
       "       [2, 5, 8],\n",
       "       [3, 6, 9]], dtype=int8)"
      ]
     },
     "execution_count": 40,
     "metadata": {},
     "output_type": "execute_result"
    }
   ],
   "source": [
    "ar3"
   ]
  },
  {
   "cell_type": "code",
   "execution_count": 41,
   "id": "7f5e7e72",
   "metadata": {},
   "outputs": [
    {
     "name": "stdout",
     "output_type": "stream",
     "text": [
      "1\n",
      "4\n",
      "7\n",
      "2\n",
      "5\n",
      "8\n",
      "3\n",
      "6\n",
      "9\n"
     ]
    }
   ],
   "source": [
    "for i in ar4:\n",
    "    print(i)"
   ]
  },
  {
   "cell_type": "code",
   "execution_count": 42,
   "id": "1933e3d8",
   "metadata": {},
   "outputs": [
    {
     "data": {
      "text/plain": [
       "9"
      ]
     },
     "execution_count": 42,
     "metadata": {},
     "output_type": "execute_result"
    }
   ],
   "source": [
    "ar3.nbytes"
   ]
  },
  {
   "cell_type": "code",
   "execution_count": 43,
   "id": "a36f56f9",
   "metadata": {},
   "outputs": [
    {
     "data": {
      "text/plain": [
       "array([[1, 4, 7],\n",
       "       [2, 5, 8],\n",
       "       [3, 6, 9]], dtype=int8)"
      ]
     },
     "execution_count": 43,
     "metadata": {},
     "output_type": "execute_result"
    }
   ],
   "source": [
    "ar3"
   ]
  },
  {
   "cell_type": "code",
   "execution_count": 44,
   "id": "e7534573",
   "metadata": {},
   "outputs": [
    {
     "data": {
      "text/plain": [
       "array([ 6, 15, 24])"
      ]
     },
     "execution_count": 44,
     "metadata": {},
     "output_type": "execute_result"
    }
   ],
   "source": [
    "ar3.sum(axis=0)"
   ]
  },
  {
   "cell_type": "code",
   "execution_count": 45,
   "id": "72fc2955",
   "metadata": {},
   "outputs": [
    {
     "data": {
      "text/plain": [
       "array([12, 15, 18])"
      ]
     },
     "execution_count": 45,
     "metadata": {},
     "output_type": "execute_result"
    }
   ],
   "source": [
    "ar3.sum(axis=1)"
   ]
  },
  {
   "cell_type": "code",
   "execution_count": 46,
   "id": "66a3ca8e",
   "metadata": {},
   "outputs": [
    {
     "data": {
      "text/plain": [
       "array([2, 2, 2], dtype=int32)"
      ]
     },
     "execution_count": 46,
     "metadata": {},
     "output_type": "execute_result"
    }
   ],
   "source": [
    "ar3.argmax(axis=0)"
   ]
  },
  {
   "cell_type": "code",
   "execution_count": 47,
   "id": "e2305d85",
   "metadata": {},
   "outputs": [
    {
     "data": {
      "text/plain": [
       "array([[1, 4, 7],\n",
       "       [2, 5, 8],\n",
       "       [3, 6, 9]], dtype=int8)"
      ]
     },
     "execution_count": 47,
     "metadata": {},
     "output_type": "execute_result"
    }
   ],
   "source": [
    "ar3"
   ]
  },
  {
   "cell_type": "code",
   "execution_count": 48,
   "id": "b290e3e1",
   "metadata": {},
   "outputs": [
    {
     "data": {
      "text/plain": [
       "array([[0, 0, 0],\n",
       "       [1, 1, 1],\n",
       "       [2, 2, 2]], dtype=int32)"
      ]
     },
     "execution_count": 48,
     "metadata": {},
     "output_type": "execute_result"
    }
   ],
   "source": [
    "ar3.argsort(axis=0)"
   ]
  },
  {
   "cell_type": "code",
   "execution_count": 49,
   "id": "7e695f13",
   "metadata": {},
   "outputs": [
    {
     "data": {
      "text/plain": [
       "dtype('int8')"
      ]
     },
     "execution_count": 49,
     "metadata": {},
     "output_type": "execute_result"
    }
   ],
   "source": [
    "ar3.dtype"
   ]
  },
  {
   "cell_type": "code",
   "execution_count": 50,
   "id": "0d795d3b",
   "metadata": {},
   "outputs": [
    {
     "data": {
      "text/plain": [
       "array([[0, 1, 2],\n",
       "       [0, 1, 2],\n",
       "       [0, 1, 2]], dtype=int32)"
      ]
     },
     "execution_count": 50,
     "metadata": {},
     "output_type": "execute_result"
    }
   ],
   "source": [
    "ar3.argsort(axis=1)"
   ]
  },
  {
   "cell_type": "code",
   "execution_count": 51,
   "id": "2cd3e2ce",
   "metadata": {},
   "outputs": [
    {
     "data": {
      "text/plain": [
       "array([1, 4, 7, 2, 5, 8, 3, 6, 9], dtype=int8)"
      ]
     },
     "execution_count": 51,
     "metadata": {},
     "output_type": "execute_result"
    }
   ],
   "source": [
    "ar3.ravel()"
   ]
  },
  {
   "cell_type": "code",
   "execution_count": 52,
   "id": "48d30c6d",
   "metadata": {},
   "outputs": [
    {
     "data": {
      "text/plain": [
       "array([[1],\n",
       "       [4],\n",
       "       [7],\n",
       "       [2],\n",
       "       [5],\n",
       "       [8],\n",
       "       [3],\n",
       "       [6],\n",
       "       [9]], dtype=int8)"
      ]
     },
     "execution_count": 52,
     "metadata": {},
     "output_type": "execute_result"
    }
   ],
   "source": [
    "ar3.reshape((9,1))"
   ]
  },
  {
   "cell_type": "code",
   "execution_count": 53,
   "id": "b1875c96",
   "metadata": {},
   "outputs": [
    {
     "data": {
      "text/plain": [
       "array([[1, 4, 7],\n",
       "       [2, 5, 8],\n",
       "       [3, 6, 9]], dtype=int8)"
      ]
     },
     "execution_count": 53,
     "metadata": {},
     "output_type": "execute_result"
    }
   ],
   "source": [
    "ar3.reshape((3,3))"
   ]
  },
  {
   "cell_type": "code",
   "execution_count": 54,
   "id": "c3b2c0b2",
   "metadata": {},
   "outputs": [
    {
     "data": {
      "text/plain": [
       "array([[1, 2, 3],\n",
       "       [4, 5, 6],\n",
       "       [7, 8, 9]], dtype=int8)"
      ]
     },
     "execution_count": 54,
     "metadata": {},
     "output_type": "execute_result"
    }
   ],
   "source": [
    "ar2"
   ]
  },
  {
   "cell_type": "code",
   "execution_count": 55,
   "id": "f156b96a",
   "metadata": {},
   "outputs": [
    {
     "data": {
      "text/plain": [
       "array([[1, 4, 7],\n",
       "       [2, 5, 8],\n",
       "       [3, 6, 9]], dtype=int8)"
      ]
     },
     "execution_count": 55,
     "metadata": {},
     "output_type": "execute_result"
    }
   ],
   "source": [
    "ar3"
   ]
  },
  {
   "cell_type": "code",
   "execution_count": 56,
   "id": "93da0095",
   "metadata": {},
   "outputs": [
    {
     "data": {
      "text/plain": [
       "array([[ 2,  6, 10],\n",
       "       [ 6, 10, 14],\n",
       "       [10, 14, 18]], dtype=int8)"
      ]
     },
     "execution_count": 56,
     "metadata": {},
     "output_type": "execute_result"
    }
   ],
   "source": [
    "ar2 + ar3"
   ]
  },
  {
   "cell_type": "code",
   "execution_count": 57,
   "id": "46b86435",
   "metadata": {},
   "outputs": [
    {
     "data": {
      "text/plain": [
       "array([[ 1,  8, 21],\n",
       "       [ 8, 25, 48],\n",
       "       [21, 48, 81]], dtype=int8)"
      ]
     },
     "execution_count": 57,
     "metadata": {},
     "output_type": "execute_result"
    }
   ],
   "source": [
    "\n",
    "ar2 * ar3"
   ]
  },
  {
   "cell_type": "code",
   "execution_count": 58,
   "id": "402ff893",
   "metadata": {},
   "outputs": [
    {
     "data": {
      "text/plain": [
       "array([[1.   , 2.   , 2.646],\n",
       "       [1.414, 2.236, 2.828],\n",
       "       [1.732, 2.45 , 3.   ]], dtype=float16)"
      ]
     },
     "execution_count": 58,
     "metadata": {},
     "output_type": "execute_result"
    }
   ],
   "source": [
    "np.sqrt(ar3)"
   ]
  },
  {
   "cell_type": "code",
   "execution_count": 59,
   "id": "b9595fe0",
   "metadata": {},
   "outputs": [
    {
     "data": {
      "text/plain": [
       "45"
      ]
     },
     "execution_count": 59,
     "metadata": {},
     "output_type": "execute_result"
    }
   ],
   "source": [
    "ar3.sum()"
   ]
  },
  {
   "cell_type": "code",
   "execution_count": 60,
   "id": "44b80a0b",
   "metadata": {},
   "outputs": [
    {
     "data": {
      "text/plain": [
       "1"
      ]
     },
     "execution_count": 60,
     "metadata": {},
     "output_type": "execute_result"
    }
   ],
   "source": [
    "ar3.min()"
   ]
  },
  {
   "cell_type": "code",
   "execution_count": 61,
   "id": "6f940bf3",
   "metadata": {},
   "outputs": [
    {
     "data": {
      "text/plain": [
       "9"
      ]
     },
     "execution_count": 61,
     "metadata": {},
     "output_type": "execute_result"
    }
   ],
   "source": [
    "ar3.max()"
   ]
  },
  {
   "cell_type": "code",
   "execution_count": 62,
   "id": "7361e654",
   "metadata": {},
   "outputs": [
    {
     "data": {
      "text/plain": [
       "array([[1, 4, 7],\n",
       "       [2, 5, 8],\n",
       "       [3, 6, 9]], dtype=int8)"
      ]
     },
     "execution_count": 62,
     "metadata": {},
     "output_type": "execute_result"
    }
   ],
   "source": [
    "ar3"
   ]
  },
  {
   "cell_type": "code",
   "execution_count": 63,
   "id": "5fc2a955",
   "metadata": {},
   "outputs": [
    {
     "data": {
      "text/plain": [
       "(array([0, 1, 2, 2], dtype=int32), array([2, 2, 1, 2], dtype=int32))"
      ]
     },
     "execution_count": 63,
     "metadata": {},
     "output_type": "execute_result"
    }
   ],
   "source": [
    "np.where(ar3>5)"
   ]
  },
  {
   "cell_type": "code",
   "execution_count": 64,
   "id": "55fad5b4",
   "metadata": {},
   "outputs": [
    {
     "data": {
      "text/plain": [
       "9"
      ]
     },
     "execution_count": 64,
     "metadata": {},
     "output_type": "execute_result"
    }
   ],
   "source": [
    "np.count_nonzero(ar3)"
   ]
  },
  {
   "cell_type": "code",
   "execution_count": 65,
   "id": "3b72eb4f",
   "metadata": {},
   "outputs": [],
   "source": [
    "import sys\n",
    "py_ar=[0,2,45,48]\n"
   ]
  },
  {
   "cell_type": "code",
   "execution_count": 66,
   "id": "5297c3c4",
   "metadata": {},
   "outputs": [],
   "source": [
    "np_ar=np.array(py_ar)"
   ]
  },
  {
   "cell_type": "code",
   "execution_count": 67,
   "id": "c4f34ab8",
   "metadata": {},
   "outputs": [
    {
     "data": {
      "text/plain": [
       "56"
      ]
     },
     "execution_count": 67,
     "metadata": {},
     "output_type": "execute_result"
    }
   ],
   "source": [
    "len(py_ar) * sys.getsizeof(5)"
   ]
  },
  {
   "cell_type": "code",
   "execution_count": 68,
   "id": "22d421ca",
   "metadata": {},
   "outputs": [
    {
     "data": {
      "text/plain": [
       "16"
      ]
     },
     "execution_count": 68,
     "metadata": {},
     "output_type": "execute_result"
    }
   ],
   "source": [
    "np_ar.itemsize * np_ar.size\n"
   ]
  },
  {
   "cell_type": "markdown",
   "id": "59dc3707",
   "metadata": {},
   "source": [
    "## Matrix Multiplication\n"
   ]
  },
  {
   "cell_type": "code",
   "execution_count": 69,
   "id": "8908c81f",
   "metadata": {},
   "outputs": [],
   "source": [
    "A=np.array([[0,1,2],[2,3,4],[4,5,6]])"
   ]
  },
  {
   "cell_type": "code",
   "execution_count": 70,
   "id": "d16efdc0",
   "metadata": {},
   "outputs": [],
   "source": [
    "AA=np.dot(A,A)"
   ]
  },
  {
   "cell_type": "code",
   "execution_count": 71,
   "id": "3317895c",
   "metadata": {},
   "outputs": [
    {
     "data": {
      "text/plain": [
       "array([[10, 13, 16],\n",
       "       [22, 31, 40],\n",
       "       [34, 49, 64]])"
      ]
     },
     "execution_count": 71,
     "metadata": {},
     "output_type": "execute_result"
    }
   ],
   "source": [
    "AA"
   ]
  },
  {
   "cell_type": "code",
   "execution_count": 72,
   "id": "7f82ed9d",
   "metadata": {},
   "outputs": [
    {
     "data": {
      "text/plain": [
       "array([[ 0,  5, 10],\n",
       "       [10, 15, 20],\n",
       "       [20, 25, 30]])"
      ]
     },
     "execution_count": 72,
     "metadata": {},
     "output_type": "execute_result"
    }
   ],
   "source": [
    "5*A"
   ]
  },
  {
   "cell_type": "code",
   "execution_count": 73,
   "id": "1464940d",
   "metadata": {},
   "outputs": [],
   "source": [
    "B=np.array([[1,0,1],[0,1,1],[1,2,0]])"
   ]
  },
  {
   "cell_type": "code",
   "execution_count": 74,
   "id": "d2626442",
   "metadata": {},
   "outputs": [],
   "source": [
    "multi_AB=np.dot(A,B)"
   ]
  },
  {
   "cell_type": "code",
   "execution_count": 75,
   "id": "d15fdbcd",
   "metadata": {},
   "outputs": [
    {
     "data": {
      "text/plain": [
       "array([[ 2,  5,  1],\n",
       "       [ 6, 11,  5],\n",
       "       [10, 17,  9]])"
      ]
     },
     "execution_count": 75,
     "metadata": {},
     "output_type": "execute_result"
    }
   ],
   "source": [
    "multi_AB"
   ]
  },
  {
   "cell_type": "code",
   "execution_count": 76,
   "id": "1f2d4dfa",
   "metadata": {},
   "outputs": [
    {
     "data": {
      "text/plain": [
       "array([[False, False, False],\n",
       "       [False, False, False],\n",
       "       [False, False, False]])"
      ]
     },
     "execution_count": 76,
     "metadata": {},
     "output_type": "execute_result"
    }
   ],
   "source": [
    "A==B"
   ]
  },
  {
   "cell_type": "markdown",
   "id": "94cda4d2",
   "metadata": {},
   "source": [
    "## Compare Two Matrix"
   ]
  },
  {
   "cell_type": "code",
   "execution_count": 77,
   "id": "6336de0a",
   "metadata": {},
   "outputs": [
    {
     "name": "stdout",
     "output_type": "stream",
     "text": [
      "False\n"
     ]
    }
   ],
   "source": [
    "compare = A =B\n",
    "print(compare.all())"
   ]
  },
  {
   "cell_type": "markdown",
   "id": "ae33de1b",
   "metadata": {},
   "source": [
    "## Determinant of Matrix"
   ]
  },
  {
   "cell_type": "code",
   "execution_count": 78,
   "id": "fc15ec80",
   "metadata": {},
   "outputs": [],
   "source": [
    "detA=np.linalg.det(A)"
   ]
  },
  {
   "cell_type": "code",
   "execution_count": 79,
   "id": "b57bef5c",
   "metadata": {},
   "outputs": [
    {
     "data": {
      "text/plain": [
       "-2.9999999999999996"
      ]
     },
     "execution_count": 79,
     "metadata": {},
     "output_type": "execute_result"
    }
   ],
   "source": [
    "detA"
   ]
  },
  {
   "cell_type": "code",
   "execution_count": 80,
   "id": "2992ad8e",
   "metadata": {},
   "outputs": [],
   "source": [
    "detB=np.linalg.det(np.array([[1,1],[1,1]]))"
   ]
  },
  {
   "cell_type": "code",
   "execution_count": 81,
   "id": "c5a8cb28",
   "metadata": {},
   "outputs": [
    {
     "data": {
      "text/plain": [
       "0.0"
      ]
     },
     "execution_count": 81,
     "metadata": {},
     "output_type": "execute_result"
    }
   ],
   "source": [
    "detB"
   ]
  },
  {
   "cell_type": "markdown",
   "id": "aeb4445d",
   "metadata": {},
   "source": [
    "## Symmetric Matrix"
   ]
  },
  {
   "cell_type": "code",
   "execution_count": 82,
   "id": "19e1c933",
   "metadata": {},
   "outputs": [],
   "source": [
    "# mat_A=matA.T"
   ]
  },
  {
   "cell_type": "code",
   "execution_count": 83,
   "id": "269f990b",
   "metadata": {},
   "outputs": [],
   "source": [
    "matA=np.array([[3,1,1],[1,2,2],[1,3,2]])"
   ]
  },
  {
   "cell_type": "code",
   "execution_count": 84,
   "id": "bd393a8e",
   "metadata": {},
   "outputs": [],
   "source": [
    "matAT=matA.T"
   ]
  },
  {
   "cell_type": "code",
   "execution_count": 85,
   "id": "ab46eb4a",
   "metadata": {},
   "outputs": [
    {
     "data": {
      "text/plain": [
       "array([[3, 1, 1],\n",
       "       [1, 2, 2],\n",
       "       [1, 3, 2]])"
      ]
     },
     "execution_count": 85,
     "metadata": {},
     "output_type": "execute_result"
    }
   ],
   "source": [
    "matA"
   ]
  },
  {
   "cell_type": "code",
   "execution_count": 86,
   "id": "f7f34e33",
   "metadata": {},
   "outputs": [
    {
     "data": {
      "text/plain": [
       "array([[3, 1, 1],\n",
       "       [1, 2, 3],\n",
       "       [1, 2, 2]])"
      ]
     },
     "execution_count": 86,
     "metadata": {},
     "output_type": "execute_result"
    }
   ],
   "source": [
    "matAT"
   ]
  },
  {
   "cell_type": "code",
   "execution_count": 87,
   "id": "c411e894",
   "metadata": {},
   "outputs": [],
   "source": [
    "AAT=np.dot(matA,matAT)"
   ]
  },
  {
   "cell_type": "code",
   "execution_count": 88,
   "id": "e417d58e",
   "metadata": {},
   "outputs": [
    {
     "data": {
      "text/plain": [
       "array([[11,  7,  8],\n",
       "       [ 7,  9, 11],\n",
       "       [ 8, 11, 14]])"
      ]
     },
     "execution_count": 88,
     "metadata": {},
     "output_type": "execute_result"
    }
   ],
   "source": [
    "AAT"
   ]
  },
  {
   "cell_type": "code",
   "execution_count": 89,
   "id": "a0607437",
   "metadata": {},
   "outputs": [
    {
     "name": "stdout",
     "output_type": "stream",
     "text": [
      "False\n"
     ]
    }
   ],
   "source": [
    "symm=matA=matAT\n",
    "print(compare.all())"
   ]
  },
  {
   "cell_type": "markdown",
   "id": "0e2621e1",
   "metadata": {},
   "source": [
    "## Find 3A-2B"
   ]
  },
  {
   "cell_type": "code",
   "execution_count": 90,
   "id": "ea65f32a",
   "metadata": {},
   "outputs": [
    {
     "data": {
      "text/plain": [
       "array([[3, 1, 1],\n",
       "       [1, 2, 3],\n",
       "       [1, 2, 2]])"
      ]
     },
     "execution_count": 90,
     "metadata": {},
     "output_type": "execute_result"
    }
   ],
   "source": [
    "matA\n"
   ]
  },
  {
   "cell_type": "code",
   "execution_count": 91,
   "id": "c4c0456a",
   "metadata": {},
   "outputs": [
    {
     "data": {
      "text/plain": [
       "array([[9, 3, 3],\n",
       "       [3, 6, 9],\n",
       "       [3, 6, 6]])"
      ]
     },
     "execution_count": 91,
     "metadata": {},
     "output_type": "execute_result"
    }
   ],
   "source": [
    "3*matA"
   ]
  },
  {
   "cell_type": "code",
   "execution_count": 92,
   "id": "ea754908",
   "metadata": {},
   "outputs": [
    {
     "data": {
      "text/plain": [
       "array([[2, 0, 2],\n",
       "       [0, 2, 2],\n",
       "       [2, 4, 0]])"
      ]
     },
     "execution_count": 92,
     "metadata": {},
     "output_type": "execute_result"
    }
   ],
   "source": [
    "2 * B"
   ]
  },
  {
   "cell_type": "code",
   "execution_count": 93,
   "id": "6e8ec59b",
   "metadata": {},
   "outputs": [
    {
     "data": {
      "text/plain": [
       "array([[7, 3, 1],\n",
       "       [3, 4, 7],\n",
       "       [1, 2, 6]])"
      ]
     },
     "execution_count": 93,
     "metadata": {},
     "output_type": "execute_result"
    }
   ],
   "source": [
    "3*matA - 2*B"
   ]
  },
  {
   "cell_type": "markdown",
   "id": "61c598e7",
   "metadata": {},
   "source": [
    "##  An array filled with random values"
   ]
  },
  {
   "cell_type": "code",
   "execution_count": 94,
   "id": "b76ec5d7",
   "metadata": {},
   "outputs": [],
   "source": [
    "arr11= np.random.random((3,3))"
   ]
  },
  {
   "cell_type": "code",
   "execution_count": 95,
   "id": "73a38c9f",
   "metadata": {},
   "outputs": [
    {
     "data": {
      "text/plain": [
       "array([[0.77626219, 0.82692129, 0.85283572],\n",
       "       [0.7366295 , 0.27666937, 0.88571281],\n",
       "       [0.20922969, 0.88633855, 0.38215015]])"
      ]
     },
     "execution_count": 95,
     "metadata": {},
     "output_type": "execute_result"
    }
   ],
   "source": [
    "arr11"
   ]
  },
  {
   "cell_type": "code",
   "execution_count": 96,
   "id": "8d4e025b",
   "metadata": {},
   "outputs": [],
   "source": [
    "ar12=np.arange(1,10,2)"
   ]
  },
  {
   "cell_type": "code",
   "execution_count": 97,
   "id": "b95ff1a1",
   "metadata": {},
   "outputs": [
    {
     "data": {
      "text/plain": [
       "array([1, 3, 5, 7, 9])"
      ]
     },
     "execution_count": 97,
     "metadata": {},
     "output_type": "execute_result"
    }
   ],
   "source": [
    "ar12"
   ]
  },
  {
   "cell_type": "markdown",
   "id": "b02f2247",
   "metadata": {},
   "source": [
    "## Identity Matrix\n"
   ]
  },
  {
   "cell_type": "code",
   "execution_count": 98,
   "id": "5b228b28",
   "metadata": {},
   "outputs": [],
   "source": [
    "arr_I=np.eye(2,dtype=np.int8)\n",
    "arr_I2=np.identity(3,dtype=np.int8)"
   ]
  },
  {
   "cell_type": "code",
   "execution_count": 99,
   "id": "226748fc",
   "metadata": {},
   "outputs": [
    {
     "data": {
      "text/plain": [
       "array([[1, 0],\n",
       "       [0, 1]], dtype=int8)"
      ]
     },
     "execution_count": 99,
     "metadata": {},
     "output_type": "execute_result"
    }
   ],
   "source": [
    "arr_I\n"
   ]
  },
  {
   "cell_type": "code",
   "execution_count": 100,
   "id": "3d0a7434",
   "metadata": {},
   "outputs": [
    {
     "data": {
      "text/plain": [
       "array([[1, 0, 0],\n",
       "       [0, 1, 0],\n",
       "       [0, 0, 1]], dtype=int8)"
      ]
     },
     "execution_count": 100,
     "metadata": {},
     "output_type": "execute_result"
    }
   ],
   "source": [
    "arr_I2"
   ]
  },
  {
   "cell_type": "markdown",
   "id": "98f5403a",
   "metadata": {},
   "source": [
    "## Slicing In Array"
   ]
  },
  {
   "cell_type": "code",
   "execution_count": 101,
   "id": "c1d8320e",
   "metadata": {},
   "outputs": [],
   "source": [
    "arr_01=np.array([[1,2,3],[3,4,5],[4,5,6]])"
   ]
  },
  {
   "cell_type": "code",
   "execution_count": 102,
   "id": "0749bd3d",
   "metadata": {},
   "outputs": [
    {
     "data": {
      "text/plain": [
       "numpy.ndarray"
      ]
     },
     "execution_count": 102,
     "metadata": {},
     "output_type": "execute_result"
    }
   ],
   "source": [
    "type(arr_01)"
   ]
  },
  {
   "cell_type": "code",
   "execution_count": 103,
   "id": "f6f03d9d",
   "metadata": {},
   "outputs": [
    {
     "data": {
      "text/plain": [
       "array([[1, 2, 3],\n",
       "       [3, 4, 5],\n",
       "       [4, 5, 6]])"
      ]
     },
     "execution_count": 103,
     "metadata": {},
     "output_type": "execute_result"
    }
   ],
   "source": [
    "arr_01"
   ]
  },
  {
   "cell_type": "code",
   "execution_count": 104,
   "id": "c69ede26",
   "metadata": {},
   "outputs": [
    {
     "data": {
      "text/plain": [
       "array([[3, 4, 5]])"
      ]
     },
     "execution_count": 104,
     "metadata": {},
     "output_type": "execute_result"
    }
   ],
   "source": [
    "arr_01[1:2]"
   ]
  },
  {
   "cell_type": "code",
   "execution_count": 105,
   "id": "b9873221",
   "metadata": {},
   "outputs": [
    {
     "data": {
      "text/plain": [
       "array([[1, 2, 3],\n",
       "       [3, 4, 5],\n",
       "       [4, 5, 6]])"
      ]
     },
     "execution_count": 105,
     "metadata": {},
     "output_type": "execute_result"
    }
   ],
   "source": [
    "arr_01"
   ]
  },
  {
   "cell_type": "code",
   "execution_count": 106,
   "id": "1aa0b3a8",
   "metadata": {},
   "outputs": [
    {
     "data": {
      "text/plain": [
       "array([[4, 5]])"
      ]
     },
     "execution_count": 106,
     "metadata": {},
     "output_type": "execute_result"
    }
   ],
   "source": [
    "arr_01[1:2,1:3]"
   ]
  },
  {
   "cell_type": "markdown",
   "id": "8e618ad2",
   "metadata": {},
   "source": [
    "## Eigen Values And Eigen Vectors"
   ]
  },
  {
   "cell_type": "code",
   "execution_count": 109,
   "id": "4a971cb4",
   "metadata": {},
   "outputs": [],
   "source": [
    "matrix_A= np.array([[1,2,3],[4,5,6],[7,8,9]])"
   ]
  },
  {
   "cell_type": "code",
   "execution_count": 111,
   "id": "9b4a3441",
   "metadata": {},
   "outputs": [],
   "source": [
    "evalue,evector = np.linalg.eig(matrix_A)"
   ]
  },
  {
   "cell_type": "code",
   "execution_count": 115,
   "id": "07282af0",
   "metadata": {},
   "outputs": [
    {
     "name": "stdout",
     "output_type": "stream",
     "text": [
      "Eingen Values : [ 1.61168440e+01 -1.11684397e+00 -1.30367773e-15] and\n",
      " Eigen vector : [[-0.23197069 -0.78583024  0.40824829]\n",
      " [-0.52532209 -0.08675134 -0.81649658]\n",
      " [-0.8186735   0.61232756  0.40824829]]\n"
     ]
    }
   ],
   "source": [
    "print(\"Eingen Values : {} and\\n Eigen vector : {}\".format(evalue,evector))"
   ]
  },
  {
   "cell_type": "markdown",
   "id": "28407672",
   "metadata": {},
   "source": [
    "## Inverting a Matrix"
   ]
  },
  {
   "cell_type": "code",
   "execution_count": 120,
   "id": "aa98d39d",
   "metadata": {},
   "outputs": [],
   "source": [
    "arr_02=np.array([[1,2,3],[4,5,6],[6,7,8]])"
   ]
  },
  {
   "cell_type": "code",
   "execution_count": 122,
   "id": "f4a27cb5",
   "metadata": {},
   "outputs": [],
   "source": [
    "invers=np.linalg.inv(arr_02)\n"
   ]
  },
  {
   "cell_type": "code",
   "execution_count": 123,
   "id": "262c2573",
   "metadata": {},
   "outputs": [
    {
     "data": {
      "text/plain": [
       "array([[ 5.14697100e+14, -1.28674275e+15,  7.72045650e+14],\n",
       "       [-1.02939420e+15,  2.57348550e+15, -1.54409130e+15],\n",
       "       [ 5.14697100e+14, -1.28674275e+15,  7.72045650e+14]])"
      ]
     },
     "execution_count": 123,
     "metadata": {},
     "output_type": "execute_result"
    }
   ],
   "source": [
    "invers"
   ]
  },
  {
   "cell_type": "code",
   "execution_count": 114,
   "id": "5b010d60",
   "metadata": {},
   "outputs": [],
   "source": [
    "\n",
    "arr_03=np.array([2,4,6,8])"
   ]
  },
  {
   "cell_type": "code",
   "execution_count": null,
   "id": "7f06d740",
   "metadata": {},
   "outputs": [],
   "source": []
  }
 ],
 "metadata": {
  "kernelspec": {
   "display_name": "Python 3",
   "language": "python",
   "name": "python3"
  },
  "language_info": {
   "codemirror_mode": {
    "name": "ipython",
    "version": 3
   },
   "file_extension": ".py",
   "mimetype": "text/x-python",
   "name": "python",
   "nbconvert_exporter": "python",
   "pygments_lexer": "ipython3",
   "version": "3.8.5"
  }
 },
 "nbformat": 4,
 "nbformat_minor": 5
}
