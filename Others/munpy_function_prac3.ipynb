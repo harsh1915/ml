{
 "cells": [
  {
   "cell_type": "markdown",
   "id": "bf2e97d4",
   "metadata": {},
   "source": [
    "\n",
    "#  Numpy Funcation"
   ]
  },
  {
   "cell_type": "code",
   "execution_count": 3,
   "id": "eca24e7e",
   "metadata": {},
   "outputs": [],
   "source": [
    "import numpy as np"
   ]
  },
  {
   "cell_type": "markdown",
   "id": "f7ca4535",
   "metadata": {},
   "source": [
    "### arange()"
   ]
  },
  {
   "cell_type": "code",
   "execution_count": 23,
   "id": "f6ab1e98",
   "metadata": {},
   "outputs": [
    {
     "name": "stdout",
     "output_type": "stream",
     "text": [
      "[ 1  2  3  4  5  6  7  8  9 10 11 12]\n"
     ]
    }
   ],
   "source": [
    "arr_1d = np.arange(1,13)\n",
    "print(arr_1d)"
   ]
  },
  {
   "cell_type": "code",
   "execution_count": 5,
   "id": "493ef79f",
   "metadata": {},
   "outputs": [
    {
     "name": "stdout",
     "output_type": "stream",
     "text": [
      "[ 1  3  5  7  9 11]\n"
     ]
    }
   ],
   "source": [
    "odd = np.arange(1,13,2)\n",
    "print(odd)"
   ]
  },
  {
   "cell_type": "markdown",
   "id": "fd06fe08",
   "metadata": {},
   "source": [
    "### linspace()"
   ]
  },
  {
   "cell_type": "code",
   "execution_count": 25,
   "id": "60103430",
   "metadata": {},
   "outputs": [
    {
     "data": {
      "text/plain": [
       "array([10. , 12.5, 15. , 17.5, 20. ])"
      ]
     },
     "execution_count": 25,
     "metadata": {},
     "output_type": "execute_result"
    }
   ],
   "source": [
    "np.linspace(10,20,5)"
   ]
  },
  {
   "cell_type": "markdown",
   "id": "e1c4f85a",
   "metadata": {},
   "source": [
    "### reshape()"
   ]
  },
  {
   "cell_type": "code",
   "execution_count": 17,
   "id": "8d555f44",
   "metadata": {},
   "outputs": [
    {
     "name": "stdout",
     "output_type": "stream",
     "text": [
      "[[ 1  2  3  4  5  6]\n",
      " [ 7  8  9 10 11 12]]\n"
     ]
    }
   ],
   "source": [
    "ar_2d = arr_1d.reshape(2,6)\n",
    "print(ar_2d)"
   ]
  },
  {
   "cell_type": "code",
   "execution_count": 27,
   "id": "7c289746",
   "metadata": {},
   "outputs": [
    {
     "name": "stdout",
     "output_type": "stream",
     "text": [
      "[[[ 1  2]\n",
      "  [ 3  4]\n",
      "  [ 5  6]]\n",
      "\n",
      " [[ 7  8]\n",
      "  [ 9 10]\n",
      "  [11 12]]]\n",
      "[[ 1  3  5]\n",
      " [ 7  9 11]\n",
      " [ 2  4  6]\n",
      " [ 8 10 12]]\n"
     ]
    }
   ],
   "source": [
    "ar_3d = arr_1d.reshape(2,3,2)\n",
    "print(ar_3d)\n",
    "print(np.reshape(ar_2d,(4,3),order='F'))"
   ]
  },
  {
   "cell_type": "markdown",
   "id": "5cb6adb7",
   "metadata": {},
   "source": [
    "### ravel()"
   ]
  },
  {
   "cell_type": "code",
   "execution_count": 13,
   "id": "c031a6b1",
   "metadata": {},
   "outputs": [
    {
     "data": {
      "text/plain": [
       "array([ 1,  2,  3,  4,  5,  6,  7,  8,  9, 10, 11, 12])"
      ]
     },
     "execution_count": 13,
     "metadata": {},
     "output_type": "execute_result"
    }
   ],
   "source": [
    "ar_3d.ravel()"
   ]
  },
  {
   "cell_type": "markdown",
   "id": "5b6f8381",
   "metadata": {},
   "source": [
    "### flatten()"
   ]
  },
  {
   "cell_type": "code",
   "execution_count": 14,
   "id": "73eb2f40",
   "metadata": {},
   "outputs": [
    {
     "data": {
      "text/plain": [
       "array([ 1,  2,  3,  4,  5,  6,  7,  8,  9, 10, 11, 12])"
      ]
     },
     "execution_count": 14,
     "metadata": {},
     "output_type": "execute_result"
    }
   ],
   "source": [
    "ar_3d.flatten()"
   ]
  },
  {
   "cell_type": "markdown",
   "id": "e5677835",
   "metadata": {},
   "source": [
    "### transpose()"
   ]
  },
  {
   "cell_type": "code",
   "execution_count": 21,
   "id": "7c5e2daf",
   "metadata": {},
   "outputs": [
    {
     "data": {
      "text/plain": [
       "array([[ 1,  7],\n",
       "       [ 2,  8],\n",
       "       [ 3,  9],\n",
       "       [ 4, 10],\n",
       "       [ 5, 11],\n",
       "       [ 6, 12]])"
      ]
     },
     "execution_count": 21,
     "metadata": {},
     "output_type": "execute_result"
    }
   ],
   "source": [
    "ar_2d.transpose()"
   ]
  },
  {
   "cell_type": "code",
   "execution_count": 28,
   "id": "936ee646",
   "metadata": {},
   "outputs": [
    {
     "data": {
      "text/plain": [
       "array([[ 0,  4,  8],\n",
       "       [ 1,  5,  9],\n",
       "       [ 2,  6, 10],\n",
       "       [ 3,  7, 11]])"
      ]
     },
     "execution_count": 28,
     "metadata": {},
     "output_type": "execute_result"
    }
   ],
   "source": [
    "x=np.arange(12)  \n",
    "y=np.reshape(x, (4, 3), order='F')  \n",
    "x  \n",
    "y  "
   ]
  },
  {
   "cell_type": "code",
   "execution_count": null,
   "id": "ec7eb964",
   "metadata": {},
   "outputs": [],
   "source": []
  }
 ],
 "metadata": {
  "kernelspec": {
   "display_name": "Python 3",
   "language": "python",
   "name": "python3"
  },
  "language_info": {
   "codemirror_mode": {
    "name": "ipython",
    "version": 3
   },
   "file_extension": ".py",
   "mimetype": "text/x-python",
   "name": "python",
   "nbconvert_exporter": "python",
   "pygments_lexer": "ipython3",
   "version": "3.9.5"
  }
 },
 "nbformat": 4,
 "nbformat_minor": 5
}
