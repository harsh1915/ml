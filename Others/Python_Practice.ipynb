{
 "cells": [
  {
   "cell_type": "code",
   "execution_count": 12,
   "metadata": {},
   "outputs": [
    {
     "data": {
      "text/plain": [
       "16"
      ]
     },
     "execution_count": 12,
     "metadata": {},
     "output_type": "execute_result"
    }
   ],
   "source": [
    "s='sadsadasasas dgs'\n",
    "len(s)"
   ]
  },
  {
   "cell_type": "code",
   "execution_count": 14,
   "metadata": {},
   "outputs": [
    {
     "name": "stdout",
     "output_type": "stream",
     "text": [
      "s\n",
      "g\n",
      "d\n",
      " \n",
      "s\n",
      "a\n",
      "s\n",
      "a\n",
      "s\n",
      "a\n",
      "d\n",
      "a\n",
      "s\n",
      "d\n",
      "a\n",
      "s\n"
     ]
    }
   ],
   "source": [
    "j=len(s)\n",
    "for i in range(0,len(s)):\n",
    "    print(s[j-1])\n",
    "    j=j-1"
   ]
  },
  {
   "cell_type": "code",
   "execution_count": 2,
   "metadata": {},
   "outputs": [
    {
     "data": {
      "text/plain": [
       "2"
      ]
     },
     "execution_count": 2,
     "metadata": {},
     "output_type": "execute_result"
    }
   ],
   "source": [
    "len(s.split())"
   ]
  },
  {
   "cell_type": "code",
   "execution_count": 3,
   "metadata": {},
   "outputs": [],
   "source": [
    "l1=[1,2,3,4,5,6,7,8,9,10]\n",
    "l2=[]"
   ]
  },
  {
   "cell_type": "code",
   "execution_count": 4,
   "metadata": {},
   "outputs": [],
   "source": [
    "for i in l1 : \n",
    "    i=i*i\n",
    "    l2.append(i)\n",
    "   "
   ]
  },
  {
   "cell_type": "code",
   "execution_count": 5,
   "metadata": {},
   "outputs": [
    {
     "name": "stdout",
     "output_type": "stream",
     "text": [
      "[1, 4, 9, 16, 25, 36, 49, 64, 81, 100]\n"
     ]
    }
   ],
   "source": [
    "print(l2)"
   ]
  },
  {
   "cell_type": "code",
   "execution_count": 6,
   "metadata": {},
   "outputs": [
    {
     "name": "stdout",
     "output_type": "stream",
     "text": [
      "234.5\n"
     ]
    }
   ],
   "source": [
    "n1=234.4568\n",
    "\n",
    "print(round(n1,1))"
   ]
  },
  {
   "cell_type": "code",
   "execution_count": 7,
   "metadata": {},
   "outputs": [
    {
     "name": "stdout",
     "output_type": "stream",
     "text": [
      "234.46\n"
     ]
    }
   ],
   "source": [
    "print(format(n1,\".2f\"))"
   ]
  },
  {
   "cell_type": "code",
   "execution_count": 8,
   "metadata": {},
   "outputs": [],
   "source": [
    "def function_1():\n",
    "    print(\"In Funtion_1\")"
   ]
  },
  {
   "cell_type": "code",
   "execution_count": 9,
   "metadata": {},
   "outputs": [],
   "source": [
    "def function_2(par):\n",
    "    print(\"In Funtion_2 with value: \",par)"
   ]
  },
  {
   "cell_type": "code",
   "execution_count": 10,
   "metadata": {},
   "outputs": [],
   "source": [
    "def function_3(par):\n",
    "    print(\"In Funtion_3 with value: \",par*2)\n",
    "    return (\"square of par:\",par**2)"
   ]
  },
  {
   "cell_type": "code",
   "execution_count": 11,
   "metadata": {},
   "outputs": [
    {
     "name": "stdout",
     "output_type": "stream",
     "text": [
      "In Funtion_1\n"
     ]
    }
   ],
   "source": [
    "function_1()"
   ]
  },
  {
   "cell_type": "code",
   "execution_count": 12,
   "metadata": {},
   "outputs": [
    {
     "name": "stdout",
     "output_type": "stream",
     "text": [
      "In Funtion_2 with value:  2\n"
     ]
    }
   ],
   "source": [
    "function_2(2)"
   ]
  },
  {
   "cell_type": "code",
   "execution_count": 13,
   "metadata": {},
   "outputs": [
    {
     "name": "stdout",
     "output_type": "stream",
     "text": [
      "In Funtion_3 with value:  90\n"
     ]
    },
    {
     "data": {
      "text/plain": [
       "('square of par:', 2025)"
      ]
     },
     "execution_count": 13,
     "metadata": {},
     "output_type": "execute_result"
    }
   ],
   "source": [
    "function_3(45)"
   ]
  },
  {
   "cell_type": "code",
   "execution_count": 14,
   "metadata": {},
   "outputs": [
    {
     "name": "stdout",
     "output_type": "stream",
     "text": [
      "In Funtion_2 with value:  hasmukh\n"
     ]
    }
   ],
   "source": [
    "function_2(\"hasmukh\")"
   ]
  },
  {
   "cell_type": "code",
   "execution_count": 15,
   "metadata": {},
   "outputs": [],
   "source": [
    "def local_variable():\n",
    "    value=1\n",
    "    print(\"Local Value:\",value)"
   ]
  },
  {
   "cell_type": "code",
   "execution_count": 16,
   "metadata": {},
   "outputs": [
    {
     "name": "stdout",
     "output_type": "stream",
     "text": [
      "Local Value: 1\n",
      "can not access local variable..!!!\n"
     ]
    }
   ],
   "source": [
    "def local_parameter(value):\n",
    "    print(\"Parameter value:\", value)\n",
    "    value2\n",
    "    value2= 2\n",
    "    print(\"Parameter value:\", value2)\n",
    "    \n",
    "local_variable()\n",
    "try:\n",
    "    print(\"Value:\",value)\n",
    "except:\n",
    "    print(\"can not access local variable..!!!\")\n",
    "val=23 "
   ]
  },
  {
   "cell_type": "code",
   "execution_count": 17,
   "metadata": {},
   "outputs": [],
   "source": [
    "def globaal_access():\n",
    "    print(\"Global Value: \" ,value)\n",
    "    \n",
    "def global_modification():\n",
    "    global value\n",
    "    value = 2\n",
    "    print(\"Global value:\", value)\n",
    "    "
   ]
  },
  {
   "cell_type": "code",
   "execution_count": 4,
   "metadata": {},
   "outputs": [
    {
     "name": "stdout",
     "output_type": "stream",
     "text": [
      "Enter A Number: -1\n",
      "Not A Valid Number..!!!\n"
     ]
    }
   ],
   "source": [
    "def primeNumbers(no):\n",
    "\tif no >1:\n",
    "\t\tfor i in range(2,int(no/2)+1):\n",
    "\t\t\tif no%i == 0:\n",
    "\t\t\t\treturn \"Not a Prime Number\"\n",
    "\t\treturn \"prime Number\"\n",
    "\n",
    "num = int(input(\"Enter A Number: \"))\n",
    "if num > 0:\n",
    "    print(primeNumbers(num))\n",
    "else:\n",
    "    print(\"Not A Valid Number..!!!\")"
   ]
  },
  {
   "cell_type": "code",
   "execution_count": 10,
   "metadata": {},
   "outputs": [
    {
     "name": "stdout",
     "output_type": "stream",
     "text": [
      "Enter A Number: 121\n",
      "Not Armstrong\n"
     ]
    }
   ],
   "source": [
    "number=input(\"Enter A Number: \")\n",
    "list1=[]\n",
    "total=0\n",
    "count=0\n",
    "no=0\n",
    "for i in number:\n",
    "    list1.append(i)\n",
    "    count+=1\n",
    "\n",
    "for i in list1:\n",
    "    no=(int(i)**count)\n",
    "    total=total+no\n",
    "\n",
    "if int(number)==total:\n",
    "    print(\"Armstrong\")\n",
    "else:\n",
    "    print(\"Not Armstrong\")\n"
   ]
  },
  {
   "cell_type": "code",
   "execution_count": 34,
   "metadata": {},
   "outputs": [
    {
     "name": "stdout",
     "output_type": "stream",
     "text": [
      "Enter Number121\n",
      "1\n",
      "2\n",
      "1\n",
      "Palindrome\n"
     ]
    }
   ],
   "source": [
    "number=int(input(\"Enter Number\"))\n",
    "\n",
    "list_num=[]\n",
    "\n",
    "for i in str(number):\n",
    "    print(i)\n",
    "    list_num.append(i)\n",
    "    \n",
    "if list_num[::-1]==list_num :\n",
    "    print(\"Palindrome\")\n",
    "else:\n",
    "    print(\"Not Palindrome\")"
   ]
  },
  {
   "cell_type": "code",
   "execution_count": 23,
   "metadata": {},
   "outputs": [
    {
     "data": {
      "text/plain": [
       "str"
      ]
     },
     "execution_count": 23,
     "metadata": {},
     "output_type": "execute_result"
    }
   ],
   "source": [
    "type(number)"
   ]
  },
  {
   "cell_type": "code",
   "execution_count": 1,
   "metadata": {},
   "outputs": [
    {
     "name": "stdout",
     "output_type": "stream",
     "text": [
      "Enter number45\n",
      "9\n"
     ]
    }
   ],
   "source": [
    "num=input(\"Enter number\")\n",
    "total=0\n",
    "for i in num:\n",
    "    total=total+int(i)\n",
    "print(total)    "
   ]
  },
  {
   "cell_type": "code",
   "execution_count": 5,
   "metadata": {},
   "outputs": [
    {
     "name": "stdout",
     "output_type": "stream",
     "text": [
      "Enter Stringhasmukh\n"
     ]
    },
    {
     "data": {
      "text/plain": [
       "{'h': 2, 'a': 1, 's': 1, 'm': 1, 'u': 1, 'k': 1}"
      ]
     },
     "execution_count": 5,
     "metadata": {},
     "output_type": "execute_result"
    }
   ],
   "source": [
    "string=input(\"Enter String\")\n",
    "dict1={}\n",
    "\n",
    "for n in string:\n",
    "    keys=dict1.keys()\n",
    "    if n in keys:\n",
    "        dict1[n]+=1\n",
    "    else:\n",
    "        dict1[n]=1\n",
    "dict1        "
   ]
  }
 ],
 "metadata": {
  "kernelspec": {
   "display_name": "Python 3",
   "language": "python",
   "name": "python3"
  },
  "language_info": {
   "codemirror_mode": {
    "name": "ipython",
    "version": 3
   },
   "file_extension": ".py",
   "mimetype": "text/x-python",
   "name": "python",
   "nbconvert_exporter": "python",
   "pygments_lexer": "ipython3",
   "version": "3.8.10"
  }
 },
 "nbformat": 4,
 "nbformat_minor": 5
}
