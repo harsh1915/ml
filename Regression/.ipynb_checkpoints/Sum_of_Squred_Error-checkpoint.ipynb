{
 "cells": [
  {
   "cell_type": "code",
   "execution_count": null,
   "metadata": {},
   "outputs": [],
   "source": [
    "# y=a+bx\n",
    "\n",
    "total_error=0\n",
    "def sum_of_squred_error():\n",
    "    yp=a+b*x\n",
    "    for i in \n",
    "    error=(1/2)*(yp-ya)**2\n",
    "    total_error=total_error+error\n",
    "    return total_error\n",
    "\n"
   ]
  }
 ],
 "metadata": {
  "kernelspec": {
   "display_name": "Python 3",
   "language": "python",
   "name": "python3"
  },
  "language_info": {
   "codemirror_mode": {
    "name": "ipython",
    "version": 3
   },
   "file_extension": ".py",
   "mimetype": "text/x-python",
   "name": "python",
   "nbconvert_exporter": "python",
   "pygments_lexer": "ipython3",
   "version": "3.8.10"
  }
 },
 "nbformat": 4,
 "nbformat_minor": 4
}
