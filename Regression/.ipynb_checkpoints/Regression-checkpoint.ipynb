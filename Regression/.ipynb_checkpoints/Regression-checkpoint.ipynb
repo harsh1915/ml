{
 "cells": [
  {
   "cell_type": "code",
   "execution_count": 1,
   "metadata": {},
   "outputs": [],
   "source": [
    "import pandas as pd"
   ]
  },
  {
   "cell_type": "code",
   "execution_count": 2,
   "metadata": {},
   "outputs": [],
   "source": [
    "df=pd.read_excel('housing-1.xlsx')"
   ]
  },
  {
   "cell_type": "code",
   "execution_count": 3,
   "metadata": {},
   "outputs": [
    {
     "data": {
      "text/html": [
       "<div>\n",
       "<style scoped>\n",
       "    .dataframe tbody tr th:only-of-type {\n",
       "        vertical-align: middle;\n",
       "    }\n",
       "\n",
       "    .dataframe tbody tr th {\n",
       "        vertical-align: top;\n",
       "    }\n",
       "\n",
       "    .dataframe thead th {\n",
       "        text-align: right;\n",
       "    }\n",
       "</style>\n",
       "<table border=\"1\" class=\"dataframe\">\n",
       "  <thead>\n",
       "    <tr style=\"text-align: right;\">\n",
       "      <th></th>\n",
       "      <th>X</th>\n",
       "      <th>Y</th>\n",
       "      <th>Xa</th>\n",
       "      <th>Ya</th>\n",
       "    </tr>\n",
       "  </thead>\n",
       "  <tbody>\n",
       "    <tr>\n",
       "      <th>0</th>\n",
       "      <td>1100</td>\n",
       "      <td>199000</td>\n",
       "      <td>0.000000</td>\n",
       "      <td>0.000000</td>\n",
       "    </tr>\n",
       "    <tr>\n",
       "      <th>1</th>\n",
       "      <td>1400</td>\n",
       "      <td>245000</td>\n",
       "      <td>0.222222</td>\n",
       "      <td>0.223301</td>\n",
       "    </tr>\n",
       "    <tr>\n",
       "      <th>2</th>\n",
       "      <td>1425</td>\n",
       "      <td>319000</td>\n",
       "      <td>0.240741</td>\n",
       "      <td>0.582524</td>\n",
       "    </tr>\n",
       "    <tr>\n",
       "      <th>3</th>\n",
       "      <td>1550</td>\n",
       "      <td>240000</td>\n",
       "      <td>0.333333</td>\n",
       "      <td>0.199029</td>\n",
       "    </tr>\n",
       "    <tr>\n",
       "      <th>4</th>\n",
       "      <td>1600</td>\n",
       "      <td>312000</td>\n",
       "      <td>0.370370</td>\n",
       "      <td>0.548544</td>\n",
       "    </tr>\n",
       "    <tr>\n",
       "      <th>5</th>\n",
       "      <td>1700</td>\n",
       "      <td>279000</td>\n",
       "      <td>0.444444</td>\n",
       "      <td>0.388350</td>\n",
       "    </tr>\n",
       "    <tr>\n",
       "      <th>6</th>\n",
       "      <td>1700</td>\n",
       "      <td>310000</td>\n",
       "      <td>0.444444</td>\n",
       "      <td>0.538835</td>\n",
       "    </tr>\n",
       "    <tr>\n",
       "      <th>7</th>\n",
       "      <td>1875</td>\n",
       "      <td>308000</td>\n",
       "      <td>0.574074</td>\n",
       "      <td>0.529126</td>\n",
       "    </tr>\n",
       "    <tr>\n",
       "      <th>8</th>\n",
       "      <td>2350</td>\n",
       "      <td>405000</td>\n",
       "      <td>0.925926</td>\n",
       "      <td>1.000000</td>\n",
       "    </tr>\n",
       "    <tr>\n",
       "      <th>9</th>\n",
       "      <td>2450</td>\n",
       "      <td>324000</td>\n",
       "      <td>1.000000</td>\n",
       "      <td>0.606796</td>\n",
       "    </tr>\n",
       "  </tbody>\n",
       "</table>\n",
       "</div>"
      ],
      "text/plain": [
       "      X       Y        Xa        Ya\n",
       "0  1100  199000  0.000000  0.000000\n",
       "1  1400  245000  0.222222  0.223301\n",
       "2  1425  319000  0.240741  0.582524\n",
       "3  1550  240000  0.333333  0.199029\n",
       "4  1600  312000  0.370370  0.548544\n",
       "5  1700  279000  0.444444  0.388350\n",
       "6  1700  310000  0.444444  0.538835\n",
       "7  1875  308000  0.574074  0.529126\n",
       "8  2350  405000  0.925926  1.000000\n",
       "9  2450  324000  1.000000  0.606796"
      ]
     },
     "execution_count": 3,
     "metadata": {},
     "output_type": "execute_result"
    }
   ],
   "source": [
    "df"
   ]
  },
  {
   "cell_type": "code",
   "execution_count": 4,
   "metadata": {},
   "outputs": [
    {
     "name": "stdout",
     "output_type": "stream",
     "text": [
      "0.45\n",
      "0.6166666666666665\n",
      "0.6305555555555558\n",
      "0.6999999999999997\n",
      "0.7277777777777775\n",
      "0.783333333333333\n",
      "0.783333333333333\n",
      "0.8805555555555555\n",
      "1.1444444444444446\n",
      "1.2\n",
      "0.6773447764185777\n"
     ]
    }
   ],
   "source": [
    "# y=a+bx\n",
    "\n",
    "\n",
    "\n",
    "def sum_of_squred_error(xdata,ydata,a,b):\n",
    "    total_error=0\n",
    "    for (x,ya) in zip(xdata,ydata):\n",
    "        yp=a+b*x\n",
    "        error=(1/2)*(yp-ya)**2\n",
    "        total_error=total_error+error\n",
    "    return total_error\n",
    "\n",
    "\n",
    "a=0.45\n",
    "b=0.75\n",
    "\n",
    "print(sum_of_squred_error(df['Xa'],df['Ya'],a,b))"
   ]
  }
 ],
 "metadata": {
  "kernelspec": {
   "display_name": "Python 3",
   "language": "python",
   "name": "python3"
  },
  "language_info": {
   "codemirror_mode": {
    "name": "ipython",
    "version": 3
   },
   "file_extension": ".py",
   "mimetype": "text/x-python",
   "name": "python",
   "nbconvert_exporter": "python",
   "pygments_lexer": "ipython3",
   "version": "3.8.10"
  }
 },
 "nbformat": 4,
 "nbformat_minor": 4
}
