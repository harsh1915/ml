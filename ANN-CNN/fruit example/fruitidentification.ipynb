{
 "cells": [
  {
   "cell_type": "code",
   "execution_count": 199,
   "metadata": {},
   "outputs": [],
   "source": [
    "#Importing Library\n",
    "import numpy as np\n",
    "import pandas as pd\n",
    "import cv2\n",
    "import os \n",
    "# "
   ]
  },
  {
   "cell_type": "code",
   "execution_count": 200,
   "metadata": {},
   "outputs": [],
   "source": [
    "from PIL import Image"
   ]
  },
  {
   "cell_type": "markdown",
   "metadata": {},
   "source": []
  },
  {
   "cell_type": "code",
   "execution_count": 201,
   "metadata": {},
   "outputs": [],
   "source": [
    "\n",
    "images  =  []       \n",
    "labels  =  [] \n",
    "train_path  =  'D://experiment//fruit example//train'\n",
    "for filename in os.listdir('D://experiment//fruit example//train'):\n",
    "   \n",
    "    if filename.split('.')[1]  ==  'jpg':\n",
    "        img  =  cv2.imread(os.path.join(train_path,filename))\n",
    "        arr = Image.fromarray(img,'RGB')\n",
    "        img_arr = arr.resize((50,50))\n",
    "        labels.append(filename.split('_')[0])\n",
    "        images.append(np.array(img_arr))"
   ]
  },
  {
   "cell_type": "code",
   "execution_count": 202,
   "metadata": {},
   "outputs": [
    {
     "data": {
      "text/plain": [
       "array(['apple', 'banana', 'mixed', 'orange'], dtype='<U6')"
      ]
     },
     "execution_count": 202,
     "metadata": {},
     "output_type": "execute_result"
    }
   ],
   "source": [
    "#Image Labels\n",
    "np.unique(labels)\n"
   ]
  },
  {
   "cell_type": "code",
   "execution_count": 203,
   "metadata": {},
   "outputs": [
    {
     "data": {
      "text/plain": [
       "array([0, 0, 0, 0, 0, 0, 0, 0, 0, 0, 0, 0, 0, 0, 0, 0, 0, 0, 0, 0, 0, 0,\n",
       "       0, 0, 0, 0, 0, 0, 0, 0, 0, 0, 0, 0, 0, 0, 0, 0, 0, 0, 0, 0, 0, 0,\n",
       "       0, 0, 0, 0, 0, 0, 0, 0, 0, 0, 0, 0, 0, 0, 0, 0, 0, 0, 0, 0, 0, 0,\n",
       "       0, 0, 0, 0, 0, 0, 0, 0, 0, 1, 1, 1, 1, 1, 1, 1, 1, 1, 1, 1, 1, 1,\n",
       "       1, 1, 1, 1, 1, 1, 1, 1, 1, 1, 1, 1, 1, 1, 1, 1, 1, 1, 1, 1, 1, 1,\n",
       "       1, 1, 1, 1, 1, 1, 1, 1, 1, 1, 1, 1, 1, 1, 1, 1, 1, 1, 1, 1, 1, 1,\n",
       "       1, 1, 1, 1, 1, 1, 1, 1, 1, 1, 1, 1, 1, 1, 1, 1, 2, 2, 2, 2, 2, 2,\n",
       "       2, 2, 2, 2, 2, 2, 2, 2, 2, 2, 2, 2, 2, 2, 3, 3, 3, 3, 3, 3, 3, 3,\n",
       "       3, 3, 3, 3, 3, 3, 3, 3, 3, 3, 3, 3, 3, 3, 3, 3, 3, 3, 3, 3, 3, 3,\n",
       "       3, 3, 3, 3, 3, 3, 3, 3, 3, 3, 3, 3, 3, 3, 3, 3, 3, 3, 3, 3, 3, 3,\n",
       "       3, 3, 3, 3, 3, 3, 3, 3, 3, 3, 3, 3, 3, 3, 3, 3, 3, 3, 3, 3])"
      ]
     },
     "execution_count": 203,
     "metadata": {},
     "output_type": "execute_result"
    }
   ],
   "source": [
    "from sklearn.preprocessing import LabelEncoder\n",
    "lb_encod  =  LabelEncoder()\n",
    "labels = pd.DataFrame(labels)\n",
    "labels = lb_encod.fit_transform(labels[0])\n",
    "labels"
   ]
  },
  {
   "cell_type": "code",
   "execution_count": 204,
   "metadata": {},
   "outputs": [
    {
     "data": {
      "image/png": "[encoded data removed]",
      "text/plain": [
       "<Figure size 576x576 with 2 Axes>"
      ]
     },
     "metadata": {
      "needs_background": "light"
     },
     "output_type": "display_data"
    }
   ],
   "source": [
    "#Visualizing image\n",
    "import matplotlib.pyplot as plt\n",
    "figure = plt.figure(figsize = (8,8))\n",
    "ax = figure.add_subplot(121)\n",
    "ax.imshow(images[0])\n",
    "bx = figure.add_subplot(122)\n",
    "bx.imshow(images[80])\n",
    "plt.show()"
   ]
  },
  {
   "cell_type": "code",
   "execution_count": 205,
   "metadata": {},
   "outputs": [],
   "source": [
    "#Saving the image array and corresponding labels\n",
    "images = np.array(images)\n",
    "np.save(\"image\",images)\n",
    "np.save(\"labels\",labels)\n",
    "\n",
    "#Loading the images and labels that we have saved above\n",
    "image = np.load(\"image.npy\",allow_pickle = True)\n",
    "labels = np.load(\"labels.npy\",allow_pickle = True)\n",
    "\n",
    "img_shape  = np.arange(image.shape[0])\n",
    "np.random.shuffle(img_shape)\n",
    "image = image[img_shape]\n",
    "labels = labels[img_shape]"
   ]
  },
  {
   "cell_type": "code",
   "execution_count": 206,
   "metadata": {},
   "outputs": [],
   "source": [
    "num_classes = len(np.unique(labels))\n",
    "len_data = len(image)\n"
   ]
  },
  {
   "cell_type": "code",
   "execution_count": 207,
   "metadata": {},
   "outputs": [
    {
     "data": {
      "text/plain": [
       "240"
      ]
     },
     "execution_count": 207,
     "metadata": {},
     "output_type": "execute_result"
    }
   ],
   "source": [
    "len_data"
   ]
  },
  {
   "cell_type": "code",
   "execution_count": 214,
   "metadata": {},
   "outputs": [],
   "source": [
    "x_train, x_test = image[(int)(0.1*len_data):],image[:(int)(0.1*len_data)]\n",
    "y_train,y_test = labels[(int)(0.1*len_data):],labels[:(int)(0.1*len_data)]\n",
    "\n",
    "import keras\n",
    "y_train = keras.utils.to_categorical(y_train,num_classes)\n",
    "y_test = keras.utils.to_categorical(y_test,num_classes)"
   ]
  },
  {
   "cell_type": "code",
   "execution_count": 215,
   "metadata": {},
   "outputs": [
    {
     "name": "stdout",
     "output_type": "stream",
     "text": [
      "Model: \"sequential_6\"\n",
      "_________________________________________________________________\n",
      "Layer (type)                 Output Shape              Param #   \n",
      "=================================================================\n",
      "conv2d_18 (Conv2D)           (None, 49, 49, 32)        416       \n",
      "_________________________________________________________________\n",
      "max_pooling2d_18 (MaxPooling (None, 24, 24, 32)        0         \n",
      "_________________________________________________________________\n",
      "conv2d_19 (Conv2D)           (None, 23, 23, 64)        8256      \n",
      "_________________________________________________________________\n",
      "max_pooling2d_19 (MaxPooling (None, 11, 11, 64)        0         \n",
      "_________________________________________________________________\n",
      "conv2d_20 (Conv2D)           (None, 10, 10, 128)       32896     \n",
      "_________________________________________________________________\n",
      "max_pooling2d_20 (MaxPooling (None, 5, 5, 128)         0         \n",
      "_________________________________________________________________\n",
      "dropout_6 (Dropout)          (None, 5, 5, 128)         0         \n",
      "_________________________________________________________________\n",
      "flatten_6 (Flatten)          (None, 3200)              0         \n",
      "_________________________________________________________________\n",
      "dense_18 (Dense)             (None, 64)                204864    \n",
      "_________________________________________________________________\n",
      "dense_19 (Dense)             (None, 16)                1040      \n",
      "_________________________________________________________________\n",
      "dense_20 (Dense)             (None, 4)                 68        \n",
      "=================================================================\n",
      "Total params: 247,540\n",
      "Trainable params: 247,540\n",
      "Non-trainable params: 0\n",
      "_________________________________________________________________\n"
     ]
    }
   ],
   "source": [
    "from keras.models import Sequential\n",
    "from keras.layers import Dense,Conv2D,MaxPooling2D,Dropout,Flatten,MaxPool2D\n",
    "from keras.optimizers import RMSprop,Adam\n",
    "from keras.layers import Activation, Convolution2D, Dropout, Conv2D,AveragePooling2D, BatchNormalization,Flatten,GlobalAveragePooling2D\n",
    "from keras import layers\n",
    "from keras.regularizers import l2\n",
    "from keras.callbacks import ModelCheckpoint,ReduceLROnPlateau\n",
    "\n",
    "l2_reg = 0.001\n",
    "opt = Adam(lr = 0.001)\n",
    "\n",
    "#Defining the CNN Model\n",
    "cnn_model  =  Sequential()\n",
    "cnn_model.add(Conv2D(filters = 32, kernel_size = (2,2), input_shape = (50,50, 3), activation = 'relu',kernel_regularizer = l2(l2_reg)))\n",
    "cnn_model.add(MaxPool2D(pool_size = (2,2)))\n",
    "cnn_model.add(Conv2D(filters = 64, kernel_size = (2,2), activation = 'relu',kernel_regularizer = l2(l2_reg)))\n",
    "cnn_model.add(MaxPool2D(pool_size = (2,2)))\n",
    "cnn_model.add(Conv2D(filters = 128, kernel_size = (2,2), activation = 'relu',kernel_regularizer = l2(l2_reg)))\n",
    "cnn_model.add(MaxPool2D(pool_size = (2,2)))\n",
    "cnn_model.add(Dropout(0.1))\n",
    "\n",
    "cnn_model.add(Flatten())\n",
    "\n",
    "cnn_model.add(Dense(64, activation = 'relu'))\n",
    "cnn_model.add(Dense(16, activation = 'relu'))\n",
    "cnn_model.add(Dense(4, activation = 'softmax'))\n",
    "\n",
    "#CNN Model Summary\n",
    "cnn_model.summary()"
   ]
  },
  {
   "cell_type": "code",
   "execution_count": 216,
   "metadata": {},
   "outputs": [
    {
     "name": "stdout",
     "output_type": "stream",
     "text": [
      "Epoch 1/10\n",
      "7/7 [==============================] - 1s 97ms/step - loss: 19.8711 - accuracy: 0.3333 - val_loss: 9.4889 - val_accuracy: 0.3333\n",
      "Epoch 2/10\n",
      "7/7 [==============================] - 0s 37ms/step - loss: 4.0008 - accuracy: 0.4722 - val_loss: 1.6656 - val_accuracy: 0.4167\n",
      "Epoch 3/10\n",
      "7/7 [==============================] - 0s 39ms/step - loss: 1.7141 - accuracy: 0.5463 - val_loss: 1.4865 - val_accuracy: 0.5000\n",
      "Epoch 4/10\n",
      "7/7 [==============================] - 0s 42ms/step - loss: 0.8407 - accuracy: 0.7361 - val_loss: 1.1235 - val_accuracy: 0.7083\n",
      "Epoch 5/10\n",
      "7/7 [==============================] - 0s 42ms/step - loss: 0.5639 - accuracy: 0.8657 - val_loss: 1.2489 - val_accuracy: 0.7083\n",
      "Epoch 6/10\n",
      "7/7 [==============================] - 0s 39ms/step - loss: 0.5579 - accuracy: 0.8519 - val_loss: 1.1439 - val_accuracy: 0.7083\n",
      "Epoch 7/10\n",
      "7/7 [==============================] - 0s 40ms/step - loss: 0.5488 - accuracy: 0.8611 - val_loss: 1.3883 - val_accuracy: 0.7500\n",
      "Epoch 8/10\n",
      "7/7 [==============================] - 0s 42ms/step - loss: 0.4612 - accuracy: 0.8704 - val_loss: 1.4883 - val_accuracy: 0.6667\n",
      "Epoch 9/10\n",
      "7/7 [==============================] - 0s 46ms/step - loss: 0.3641 - accuracy: 0.9167 - val_loss: 1.5612 - val_accuracy: 0.7500\n",
      "Epoch 10/10\n",
      "7/7 [==============================] - 0s 42ms/step - loss: 0.3383 - accuracy: 0.9167 - val_loss: 1.4929 - val_accuracy: 0.7083\n"
     ]
    }
   ],
   "source": [
    "# #Compiling the model\n",
    "cnn_model.compile(loss = 'categorical_crossentropy', optimizer = opt, metrics = ['accuracy'])\n",
    "\n",
    "# Training the CNN Model\n",
    "history = cnn_model.fit(x_train, y_train, batch_size=32, epochs=10,verbose=1,validation_data=(x_test, y_test))"
   ]
  },
  {
   "cell_type": "code",
   "execution_count": 77,
   "metadata": {},
   "outputs": [],
   "source": [
    "# # file1 = \"weights.hdf5\"\n",
    "# checkpoint = ModelCheckpoint(train_path , monitor='loss', verbose=1, save_best_only=True, mode='min')\n",
    "# history = cnn_model.fit(x_train,y_train,batch_size = 128,epochs = 110,verbose = 1,validation_split = 0.33)\n"
   ]
  },
  {
   "cell_type": "code",
   "execution_count": 217,
   "metadata": {},
   "outputs": [
    {
     "name": "stdout",
     "output_type": "stream",
     "text": [
      "1/1 [==============================] - 0s 0s/step - loss: 1.4929 - accuracy: 0.7083\n",
      "Test loss: 1.4929100275039673\n",
      "Test accuracy: 0.7083333134651184\n"
     ]
    }
   ],
   "source": [
    "#Check the performance\n",
    "scores  =  cnn_model.evaluate(x_test, y_test, verbose = 1)\n",
    "print('Test loss:', scores[0])\n",
    "print('Test accuracy:', scores[1])\n"
   ]
  },
  {
   "cell_type": "code",
   "execution_count": 218,
   "metadata": {},
   "outputs": [
    {
     "data": {
      "text/plain": [
       "<matplotlib.legend.Legend at 0x20602e59a00>"
      ]
     },
     "execution_count": 218,
     "metadata": {},
     "output_type": "execute_result"
    },
    {
     "data": {
      "image/png": "[encoded data removed]",
      "text/plain": [
       "<Figure size 720x360 with 2 Axes>"
      ]
     },
     "metadata": {
      "needs_background": "light"
     },
     "output_type": "display_data"
    }
   ],
   "source": [
    "#Visualize the performance\n",
    "figure = plt.figure(figsize = (10,5))\n",
    "ax = figure.add_subplot(121)\n",
    "ax.plot(history.history['accuracy'])\n",
    "ax.plot(history.history['val_accuracy'])\n",
    "ax.legend(['Training Accuracy','Val Accuracy'])\n",
    "bx = figure.add_subplot(122)\n",
    "bx.plot(history.history['loss'])\n",
    "bx.plot(history.history['val_loss'])\n",
    "bx.legend(['Training Loss','Val Loss'])\n"
   ]
  },
  {
   "cell_type": "code",
   "execution_count": 223,
   "metadata": {},
   "outputs": [
    {
     "name": "stdout",
     "output_type": "stream",
     "text": [
      "apple\n"
     ]
    },
    {
     "data": {
      "text/plain": [
       "<matplotlib.image.AxesImage at 0x2060042fc40>"
      ]
     },
     "execution_count": 223,
     "metadata": {},
     "output_type": "execute_result"
    },
    {
     "data": {
      "image/png": "[encoded data removed]",
      "text/plain": [
       "<Figure size 432x288 with 1 Axes>"
      ]
     },
     "metadata": {
      "needs_background": "light"
     },
     "output_type": "display_data"
    }
   ],
   "source": [
    "#Test\n",
    "test_path  =  'D://experiment//fruit example//test'\n",
    "t_labels = []\n",
    "t_images = []\n",
    "for filename in os.listdir('D://experiment//fruit example//test'):\n",
    "    if filename.split('.')[1]  ==  'jpg':\n",
    "        img  =  cv2.imread(os.path.join(test_path,filename))\n",
    "        arr = Image.fromarray(img,'RGB')\n",
    "        img_arr = arr.resize((50,50))\n",
    "        t_labels.append(filename.split('_')[0])\n",
    "        t_images.append(np.array(img_arr))\n",
    "\n",
    "# test_images = np.array(test_images)\n",
    "test_images = np.array(t_images)\n",
    "np.save(\"test_image\",test_images)\n",
    "test_image = np.load(\"image.npy\",allow_pickle = True)\n",
    "\n",
    "pred = np.argmax(cnn_model.predict(test_image),axis = 1)\n",
    "prediction  =  lb_encod.inverse_transform(pred)\n",
    "\n",
    "test_image = np.expand_dims(test_image[35],axis = 0)\n",
    "pred_test = np.argmax(cnn_model.predict(test_image),axis = 1)\n",
    "prediction_test  =  lb_encod.inverse_transform(pred_test)\n",
    "\n",
    "print(prediction_test[0])\n",
    "plt.imshow(test_images[35])"
   ]
  },
  {
   "cell_type": "code",
   "execution_count": null,
   "metadata": {},
   "outputs": [],
   "source": [
    "predicted_classes = cnn_model.predict(x_test)"
   ]
  },
  {
   "cell_type": "code",
   "execution_count": null,
   "metadata": {},
   "outputs": [],
   "source": [
    "predicted_classes = np.argmax(np.round(predicted_classes),axis=1)"
   ]
  },
  {
   "cell_type": "code",
   "execution_count": 64,
   "metadata": {},
   "outputs": [
    {
     "data": {
      "text/plain": [
       "((24,), (24, 4))"
      ]
     },
     "execution_count": 64,
     "metadata": {},
     "output_type": "execute_result"
    }
   ],
   "source": [
    "predicted_classes.shape, y_test.shape"
   ]
  },
  {
   "cell_type": "code",
   "execution_count": 44,
   "metadata": {},
   "outputs": [
    {
     "name": "stdout",
     "output_type": "stream",
     "text": [
      "Found 0 correct labels\n"
     ]
    },
    {
     "name": "stderr",
     "output_type": "stream",
     "text": [
      "<ipython-input-44-29a3adef0fbf>:1: DeprecationWarning: elementwise comparison failed; this will raise an error in the future.\n",
      "  correct = np.where(predicted_classes==y_test)[0]\n"
     ]
    }
   ],
   "source": [
    "correct = np.where(predicted_classes==y_test)[0]\n",
    "print (\"Found %d correct labels\" % len(correct))\n",
    "for i, correct in enumerate(correct[:9]):\n",
    "    plt.subplot(3,3,i+1)\n",
    "    plt.imshow(x_test[correct].reshape(28,28), cmap='gray', interpolation='none')\n",
    "    plt.title(\"Predicted {}, Class {}\".format(predicted_classes[correct], y_test[correct]))\n",
    "    plt.tight_layout()"
   ]
  },
  {
   "cell_type": "code",
   "execution_count": 45,
   "metadata": {},
   "outputs": [
    {
     "data": {
      "text/plain": [
       "(24, 4)"
      ]
     },
     "execution_count": 45,
     "metadata": {},
     "output_type": "execute_result"
    }
   ],
   "source": [
    "y_test.shape"
   ]
  },
  {
   "cell_type": "code",
   "execution_count": 119,
   "metadata": {},
   "outputs": [
    {
     "name": "stdout",
     "output_type": "stream",
     "text": [
      "['apple', 'apple', 'apple', 'apple', 'apple', 'apple', 'apple', 'apple', 'apple', 'apple', 'apple', 'apple', 'apple', 'apple', 'apple', 'apple', 'apple', 'apple', 'apple', 'banana', 'banana', 'banana', 'banana', 'banana', 'banana', 'banana', 'banana', 'banana', 'banana', 'banana', 'banana', 'banana', 'banana', 'banana', 'banana', 'banana', 'banana', 'mixed', 'mixed', 'mixed', 'mixed', 'mixed', 'orange', 'orange', 'orange', 'orange', 'orange', 'orange', 'orange', 'orange', 'orange', 'orange', 'orange', 'orange', 'orange', 'orange', 'orange', 'orange', 'orange', 'orange']\n"
     ]
    }
   ],
   "source": [
    "print(t_labels)"
   ]
  },
  {
   "cell_type": "markdown",
   "metadata": {},
   "source": [
    "https://analyticsindiamag.com/fruit-recognition-using-the-convolutional-neural-network/"
   ]
  },
  {
   "cell_type": "code",
   "execution_count": 180,
   "metadata": {},
   "outputs": [
    {
     "data": {
      "text/plain": [
       "array([[[[ 40,  15, 146],\n",
       "         [ 97,  39, 194],\n",
       "         [129,  50, 225],\n",
       "         ...,\n",
       "         [  6, 129, 254],\n",
       "         [  2,  36, 201],\n",
       "         [  2,   0, 156]],\n",
       "\n",
       "        [[  7,   2, 165],\n",
       "         [  5,   0, 188],\n",
       "         [ 14,   1, 201],\n",
       "         ...,\n",
       "         [ 27,  82, 243],\n",
       "         [  1,  15, 184],\n",
       "         [  1,   0, 150]],\n",
       "\n",
       "        [[  3,   1, 168],\n",
       "         [  5,   2, 182],\n",
       "         [  3,   2, 191],\n",
       "         ...,\n",
       "         [ 28,  11, 225],\n",
       "         [  5,   6, 179],\n",
       "         [  1,   0, 143]],\n",
       "\n",
       "        ...,\n",
       "\n",
       "        [[  0,   0, 151],\n",
       "         [  4,   2, 127],\n",
       "         [ 53,  33, 129],\n",
       "         ...,\n",
       "         [ 93, 181, 252],\n",
       "         [122, 187, 251],\n",
       "         [153, 203, 252]],\n",
       "\n",
       "        [[ 69,  27, 115],\n",
       "         [122,  63, 135],\n",
       "         [203, 130, 174],\n",
       "         ...,\n",
       "         [ 87, 151, 251],\n",
       "         [124, 158, 251],\n",
       "         [172, 175, 252]],\n",
       "\n",
       "        [[ 93,  34, 109],\n",
       "         [145,  69, 136],\n",
       "         [160,  98, 160],\n",
       "         ...,\n",
       "         [ 85, 149, 251],\n",
       "         [126, 161, 251],\n",
       "         [167, 175, 251]]],\n",
       "\n",
       "\n",
       "       [[[253, 253, 253],\n",
       "         [253, 253, 253],\n",
       "         [253, 253, 253],\n",
       "         ...,\n",
       "         [253, 253, 253],\n",
       "         [253, 253, 253],\n",
       "         [253, 253, 253]],\n",
       "\n",
       "        [[253, 253, 253],\n",
       "         [253, 253, 253],\n",
       "         [253, 253, 253],\n",
       "         ...,\n",
       "         [253, 253, 253],\n",
       "         [253, 253, 253],\n",
       "         [253, 253, 253]],\n",
       "\n",
       "        [[253, 253, 253],\n",
       "         [253, 253, 253],\n",
       "         [253, 253, 253],\n",
       "         ...,\n",
       "         [253, 253, 253],\n",
       "         [253, 253, 253],\n",
       "         [253, 253, 253]],\n",
       "\n",
       "        ...,\n",
       "\n",
       "        [[253, 253, 253],\n",
       "         [253, 253, 253],\n",
       "         [253, 253, 253],\n",
       "         ...,\n",
       "         [253, 253, 253],\n",
       "         [253, 253, 253],\n",
       "         [253, 253, 253]],\n",
       "\n",
       "        [[253, 253, 253],\n",
       "         [253, 253, 253],\n",
       "         [253, 253, 253],\n",
       "         ...,\n",
       "         [253, 253, 253],\n",
       "         [253, 253, 253],\n",
       "         [253, 253, 253]],\n",
       "\n",
       "        [[253, 253, 253],\n",
       "         [253, 253, 253],\n",
       "         [253, 253, 253],\n",
       "         ...,\n",
       "         [253, 253, 253],\n",
       "         [253, 253, 253],\n",
       "         [253, 253, 253]]],\n",
       "\n",
       "\n",
       "       [[[ 16, 105, 117],\n",
       "         [ 15, 105,  81],\n",
       "         [ 12, 142,  87],\n",
       "         ...,\n",
       "         [ 18,  53,  24],\n",
       "         [ 11,  40,  27],\n",
       "         [ 10,  80,  51]],\n",
       "\n",
       "        [[ 40, 122, 126],\n",
       "         [ 11,  90,  75],\n",
       "         [ 11, 115,  81],\n",
       "         ...,\n",
       "         [ 15,  51,  31],\n",
       "         [ 11,  85,  54],\n",
       "         [  9,  86,  54]],\n",
       "\n",
       "        [[ 48, 126, 118],\n",
       "         [ 11,  91,  77],\n",
       "         [ 10,  85,  67],\n",
       "         ...,\n",
       "         [ 11,  73,  48],\n",
       "         [  8,  82,  50],\n",
       "         [ 11,  89,  56]],\n",
       "\n",
       "        ...,\n",
       "\n",
       "        [[ 29, 102,  67],\n",
       "         [ 24,  98,  59],\n",
       "         [ 15,  82,  45],\n",
       "         ...,\n",
       "         [ 26,  70,  71],\n",
       "         [ 10,  48,  31],\n",
       "         [ 29,  91,  59]],\n",
       "\n",
       "        [[ 10,  51,  36],\n",
       "         [  9,  65,  38],\n",
       "         [  9,  69,  32],\n",
       "         ...,\n",
       "         [  3,  30,  21],\n",
       "         [ 14,  57,  39],\n",
       "         [ 34,  98,  66]],\n",
       "\n",
       "        [[  4,  35,  19],\n",
       "         [  4,  54,  26],\n",
       "         [  4,  52,  22],\n",
       "         ...,\n",
       "         [  6,  42,  33],\n",
       "         [ 16,  69,  49],\n",
       "         [ 40, 105,  72]]],\n",
       "\n",
       "\n",
       "       ...,\n",
       "\n",
       "\n",
       "       [[[255, 255, 255],\n",
       "         [255, 255, 255],\n",
       "         [255, 255, 255],\n",
       "         ...,\n",
       "         [255, 255, 255],\n",
       "         [255, 255, 255],\n",
       "         [255, 255, 255]],\n",
       "\n",
       "        [[255, 255, 255],\n",
       "         [255, 255, 255],\n",
       "         [255, 255, 255],\n",
       "         ...,\n",
       "         [255, 255, 255],\n",
       "         [255, 255, 255],\n",
       "         [255, 255, 255]],\n",
       "\n",
       "        [[255, 255, 255],\n",
       "         [255, 255, 255],\n",
       "         [255, 255, 255],\n",
       "         ...,\n",
       "         [255, 255, 255],\n",
       "         [255, 255, 255],\n",
       "         [255, 255, 255]],\n",
       "\n",
       "        ...,\n",
       "\n",
       "        [[255, 255, 255],\n",
       "         [255, 255, 255],\n",
       "         [255, 255, 255],\n",
       "         ...,\n",
       "         [255, 255, 255],\n",
       "         [255, 255, 255],\n",
       "         [255, 255, 255]],\n",
       "\n",
       "        [[255, 255, 255],\n",
       "         [255, 255, 255],\n",
       "         [255, 255, 255],\n",
       "         ...,\n",
       "         [255, 255, 255],\n",
       "         [255, 255, 255],\n",
       "         [255, 255, 255]],\n",
       "\n",
       "        [[255, 255, 255],\n",
       "         [255, 255, 255],\n",
       "         [255, 255, 255],\n",
       "         ...,\n",
       "         [255, 255, 255],\n",
       "         [255, 255, 255],\n",
       "         [255, 255, 255]]],\n",
       "\n",
       "\n",
       "       [[[255, 255, 255],\n",
       "         [255, 255, 255],\n",
       "         [255, 255, 255],\n",
       "         ...,\n",
       "         [255, 255, 255],\n",
       "         [255, 255, 255],\n",
       "         [255, 255, 255]],\n",
       "\n",
       "        [[255, 255, 255],\n",
       "         [255, 255, 255],\n",
       "         [255, 255, 255],\n",
       "         ...,\n",
       "         [255, 255, 255],\n",
       "         [255, 255, 255],\n",
       "         [255, 255, 255]],\n",
       "\n",
       "        [[255, 255, 255],\n",
       "         [255, 255, 255],\n",
       "         [255, 255, 255],\n",
       "         ...,\n",
       "         [255, 255, 255],\n",
       "         [255, 255, 255],\n",
       "         [255, 255, 255]],\n",
       "\n",
       "        ...,\n",
       "\n",
       "        [[255, 255, 255],\n",
       "         [255, 255, 255],\n",
       "         [255, 255, 255],\n",
       "         ...,\n",
       "         [255, 255, 255],\n",
       "         [255, 255, 255],\n",
       "         [255, 255, 255]],\n",
       "\n",
       "        [[254, 254, 254],\n",
       "         [254, 254, 254],\n",
       "         [254, 254, 254],\n",
       "         ...,\n",
       "         [254, 254, 254],\n",
       "         [254, 254, 254],\n",
       "         [254, 254, 254]],\n",
       "\n",
       "        [[254, 254, 254],\n",
       "         [254, 254, 254],\n",
       "         [254, 254, 254],\n",
       "         ...,\n",
       "         [254, 254, 254],\n",
       "         [254, 254, 254],\n",
       "         [254, 254, 254]]],\n",
       "\n",
       "\n",
       "       [[[255, 255, 255],\n",
       "         [255, 255, 255],\n",
       "         [255, 255, 255],\n",
       "         ...,\n",
       "         [255, 255, 255],\n",
       "         [255, 255, 255],\n",
       "         [255, 255, 255]],\n",
       "\n",
       "        [[255, 255, 255],\n",
       "         [255, 255, 255],\n",
       "         [255, 255, 255],\n",
       "         ...,\n",
       "         [255, 255, 255],\n",
       "         [255, 255, 255],\n",
       "         [255, 255, 255]],\n",
       "\n",
       "        [[255, 255, 255],\n",
       "         [255, 255, 255],\n",
       "         [255, 255, 255],\n",
       "         ...,\n",
       "         [255, 255, 255],\n",
       "         [255, 255, 255],\n",
       "         [255, 255, 255]],\n",
       "\n",
       "        ...,\n",
       "\n",
       "        [[255, 255, 255],\n",
       "         [255, 255, 255],\n",
       "         [255, 255, 255],\n",
       "         ...,\n",
       "         [255, 255, 255],\n",
       "         [255, 255, 255],\n",
       "         [255, 255, 255]],\n",
       "\n",
       "        [[255, 255, 255],\n",
       "         [255, 255, 255],\n",
       "         [255, 255, 255],\n",
       "         ...,\n",
       "         [255, 255, 255],\n",
       "         [255, 255, 255],\n",
       "         [255, 255, 255]],\n",
       "\n",
       "        [[255, 255, 255],\n",
       "         [255, 255, 255],\n",
       "         [255, 255, 255],\n",
       "         ...,\n",
       "         [255, 255, 255],\n",
       "         [255, 255, 255],\n",
       "         [255, 255, 255]]]], dtype=uint8)"
      ]
     },
     "execution_count": 180,
     "metadata": {},
     "output_type": "execute_result"
    }
   ],
   "source": []
  },
  {
   "cell_type": "code",
   "execution_count": 222,
   "metadata": {},
   "outputs": [
    {
     "data": {
      "text/plain": [
       "<matplotlib.image.AxesImage at 0x20600054070>"
      ]
     },
     "execution_count": 222,
     "metadata": {},
     "output_type": "execute_result"
    },
    {
     "data": {
      "image/png": "[encoded data removed]",
      "text/plain": [
       "<Figure size 432x288 with 1 Axes>"
      ]
     },
     "metadata": {
      "needs_background": "light"
     },
     "output_type": "display_data"
    }
   ],
   "source": [
    "plt.imshow(test_images[1])"
   ]
  },
  {
   "cell_type": "code",
   "execution_count": null,
   "metadata": {},
   "outputs": [],
   "source": []
  }
 ],
 "metadata": {
  "kernelspec": {
   "display_name": "Python 3",
   "language": "python",
   "name": "python3"
  },
  "language_info": {
   "codemirror_mode": {
    "name": "ipython",
    "version": 3
   },
   "file_extension": ".py",
   "mimetype": "text/x-python",
   "name": "python",
   "nbconvert_exporter": "python",
   "pygments_lexer": "ipython3",
   "version": "3.8.10"
  }
 },
 "nbformat": 4,
 "nbformat_minor": 4
}
